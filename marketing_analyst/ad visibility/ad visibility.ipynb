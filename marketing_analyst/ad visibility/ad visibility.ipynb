{
 "cells": [
  {
   "cell_type": "markdown",
   "id": "f3d407e2",
   "metadata": {},
   "source": [
    "# Визуализация результатов повышения видимости рекламы"
   ]
  },
  {
   "cell_type": "markdown",
   "id": "158595f9",
   "metadata": {},
   "source": [
    "## Получение и изучение данных"
   ]
  },
  {
   "cell_type": "markdown",
   "id": "e75e0c3e",
   "metadata": {},
   "source": [
    "###  Поставленная задача и исходные данные"
   ]
  },
  {
   "cell_type": "markdown",
   "id": "36eb210c",
   "metadata": {},
   "source": [
    "**Заказчик: отдел маркетинга**\n",
    "\n",
    "**Цель**\n",
    "\n",
    "Иллюстрация результатов маркетологов в части повышения видимости рекламы.\n",
    "\n",
    "**Задача**\n",
    "\n",
    "Создать слайд для отчетной презентации.\n",
    "Основная информация на слайде должна состоять из % показов рекламного объявления на позиции ТОП-1 и ТОП-3 для:\n",
    "- брендовых рекламных кампаний\n",
    "- небрендовых рекламных кампаний\n",
    "- общий для всех рекламных кампаний\n",
    "\n",
    "**Описание данных**\n",
    "\n",
    "Предоставлена выгрузка из рекламного кабинета (dataset_task3), который содержит:\n",
    "- Месяц\n",
    "- Название рекламной кампании\n",
    "- № рекламной кампании\n",
    "- Кол-во показов рекламного объявления\n",
    "- Средняя позиция показа рекламного объявления\n",
    "\n",
    "Особенности:\n",
    "\n",
    "- Определить тип кампании можно по наличию brand в названии кампании. \n",
    "- Позиции для показа рекламного объявления в поисковой выдаче ограничены рядом целых чисел от 1 до 8.\n",
    "- Данные необходимо детализировать до типа кампании."
   ]
  },
  {
   "cell_type": "markdown",
   "id": "39219f24",
   "metadata": {},
   "source": [
    "### Импорт библиотек и базовые настройки"
   ]
  },
  {
   "cell_type": "code",
   "execution_count": 1,
   "id": "017cc7d8",
   "metadata": {},
   "outputs": [],
   "source": [
    "import pandas as pd\n",
    "pd.set_option('display.max_colwidth', 100)\n",
    "pd.options.display.float_format = '{:.2f}'.format\n",
    "\n",
    "import locale\n",
    "locale.setlocale(locale.LC_ALL, '')\n",
    "\n",
    "import matplotlib\n",
    "import matplotlib.pyplot as plt\n",
    "%matplotlib inline\n",
    "plt.rcParams['font.size'] = '13'\n",
    "\n",
    "import seaborn as sns\n",
    "sns.set_style('darkgrid')\n",
    "sns.set_palette('Set2')\n",
    "\n",
    "import plotly\n",
    "import plotly.express as px\n",
    "import plotly.graph_objects as go\n",
    "import plotly.io as pio\n",
    "pio.renderers.default='notebook'\n",
    "\n",
    "import warnings\n",
    "warnings.filterwarnings('ignore')"
   ]
  },
  {
   "cell_type": "markdown",
   "id": "0b8e28c2",
   "metadata": {},
   "source": [
    "Для удобства вывода на печать создадим класс для работы с текстом"
   ]
  },
  {
   "cell_type": "code",
   "execution_count": 2,
   "id": "039ab902",
   "metadata": {},
   "outputs": [],
   "source": [
    "class color:\n",
    "    BOLD = '\\033[1m'\n",
    "    UNDERLINE = '\\033[4m'\n",
    "    END = '\\033[0m'\n",
    "    OKGREEN = '\\033[92m'\n",
    "    WARNING = '\\033[93m'\n",
    "    FAIL = '\\033[91m'"
   ]
  },
  {
   "cell_type": "markdown",
   "id": "2544c09c",
   "metadata": {},
   "source": [
    "### Обзор и предообработка данных"
   ]
  },
  {
   "cell_type": "markdown",
   "id": "d0afff3c",
   "metadata": {},
   "source": [
    "#### Чтение файлов с данными"
   ]
  },
  {
   "cell_type": "code",
   "execution_count": 3,
   "id": "45a206f8",
   "metadata": {},
   "outputs": [],
   "source": [
    "df = pd.read_excel('M:/datasets/dataset_task3.xlsx')"
   ]
  },
  {
   "cell_type": "markdown",
   "id": "21b0b02b",
   "metadata": {},
   "source": [
    "#### Изучение общей информации о данных, предобработка"
   ]
  },
  {
   "cell_type": "code",
   "execution_count": 4,
   "id": "7592b119",
   "metadata": {
    "scrolled": false
   },
   "outputs": [
    {
     "name": "stdout",
     "output_type": "stream",
     "text": [
      "\u001b[1m\u001b[4mИнфо\u001b[0m\n",
      "\n",
      "<class 'pandas.core.frame.DataFrame'>\n",
      "RangeIndex: 64 entries, 0 to 63\n",
      "Data columns (total 5 columns):\n",
      " #   Column               Non-Null Count  Dtype  \n",
      "---  ------               --------------  -----  \n",
      " 0   Дата                 64 non-null     object \n",
      " 1   Кампания             64 non-null     object \n",
      " 2   № Кампании           64 non-null     int64  \n",
      " 3   Показы               64 non-null     int64  \n",
      " 4   Ср. позиция показов  64 non-null     float64\n",
      "dtypes: float64(1), int64(2), object(2)\n",
      "memory usage: 2.6+ KB\n",
      "\n",
      "\u001b[1m\u001b[4mПервые 5 строк\u001b[0m\n"
     ]
    },
    {
     "data": {
      "text/html": [
       "<div>\n",
       "<style scoped>\n",
       "    .dataframe tbody tr th:only-of-type {\n",
       "        vertical-align: middle;\n",
       "    }\n",
       "\n",
       "    .dataframe tbody tr th {\n",
       "        vertical-align: top;\n",
       "    }\n",
       "\n",
       "    .dataframe thead th {\n",
       "        text-align: right;\n",
       "    }\n",
       "</style>\n",
       "<table border=\"1\" class=\"dataframe\">\n",
       "  <thead>\n",
       "    <tr style=\"text-align: right;\">\n",
       "      <th></th>\n",
       "      <th>Дата</th>\n",
       "      <th>Кампания</th>\n",
       "      <th>№ Кампании</th>\n",
       "      <th>Показы</th>\n",
       "      <th>Ср. позиция показов</th>\n",
       "    </tr>\n",
       "  </thead>\n",
       "  <tbody>\n",
       "    <tr>\n",
       "      <th>0</th>\n",
       "      <td>янв 2022</td>\n",
       "      <td>o-a_corporate_perform_god_20220100016_context_search_brand_srb_yxprrko</td>\n",
       "      <td>69149644</td>\n",
       "      <td>4442</td>\n",
       "      <td>1.10</td>\n",
       "    </tr>\n",
       "    <tr>\n",
       "      <th>1</th>\n",
       "      <td>янв 2022</td>\n",
       "      <td>o-a_corporate_perform_god_20220100016_context_search_brand_url_yxprrko</td>\n",
       "      <td>69149675</td>\n",
       "      <td>2692</td>\n",
       "      <td>1.04</td>\n",
       "    </tr>\n",
       "    <tr>\n",
       "      <th>2</th>\n",
       "      <td>янв 2022</td>\n",
       "      <td>o-a_corporate_perform_god_20220100016_context_search_brand_cch_yxprrko</td>\n",
       "      <td>69149701</td>\n",
       "      <td>1382</td>\n",
       "      <td>1.06</td>\n",
       "    </tr>\n",
       "    <tr>\n",
       "      <th>3</th>\n",
       "      <td>янв 2022</td>\n",
       "      <td>o-a_corporate_perform_god_20220100016_context_search_general_szb_yxprrko</td>\n",
       "      <td>69149723</td>\n",
       "      <td>9006</td>\n",
       "      <td>1.24</td>\n",
       "    </tr>\n",
       "    <tr>\n",
       "      <th>4</th>\n",
       "      <td>янв 2022</td>\n",
       "      <td>o-a_corporate_perform_god_20220100016_context_search_brand_msk_yxprrko</td>\n",
       "      <td>69149760</td>\n",
       "      <td>7365</td>\n",
       "      <td>1.24</td>\n",
       "    </tr>\n",
       "  </tbody>\n",
       "</table>\n",
       "</div>"
      ],
      "text/plain": [
       "       Дата  \\\n",
       "0  янв 2022   \n",
       "1  янв 2022   \n",
       "2  янв 2022   \n",
       "3  янв 2022   \n",
       "4  янв 2022   \n",
       "\n",
       "                                                                   Кампания  \\\n",
       "0    o-a_corporate_perform_god_20220100016_context_search_brand_srb_yxprrko   \n",
       "1    o-a_corporate_perform_god_20220100016_context_search_brand_url_yxprrko   \n",
       "2    o-a_corporate_perform_god_20220100016_context_search_brand_cch_yxprrko   \n",
       "3  o-a_corporate_perform_god_20220100016_context_search_general_szb_yxprrko   \n",
       "4    o-a_corporate_perform_god_20220100016_context_search_brand_msk_yxprrko   \n",
       "\n",
       "   № Кампании  Показы  Ср. позиция показов  \n",
       "0    69149644    4442                 1.10  \n",
       "1    69149675    2692                 1.04  \n",
       "2    69149701    1382                 1.06  \n",
       "3    69149723    9006                 1.24  \n",
       "4    69149760    7365                 1.24  "
      ]
     },
     "metadata": {},
     "output_type": "display_data"
    },
    {
     "name": "stdout",
     "output_type": "stream",
     "text": [
      "\n",
      "\u001b[1m\u001b[4mКоличество явных дубликатов в датасете:\u001b[0m\n",
      "0\n"
     ]
    }
   ],
   "source": [
    "print(color.BOLD+color.UNDERLINE+'Инфо'+color.END+'\\n')\n",
    "df.info()\n",
    "str_count = 5\n",
    "print('\\n'+color.BOLD+color.UNDERLINE+f'Первые {str_count} строк'+color.END)\n",
    "display(df.head(str_count))\n",
    "print('\\n'+color.BOLD+color.UNDERLINE+'Количество явных дубликатов в датасете:'+color.END)\n",
    "print(df.duplicated().sum())"
   ]
  },
  {
   "cell_type": "markdown",
   "id": "cb804504",
   "metadata": {},
   "source": [
    "Выводы на основе наблюдений:\n",
    "- привести наименования столбцов в змеиный регистр\n",
    "- привести дату в необходимый для анализа формат (месяц в числовом виде)\n",
    "- пропуски отсутствуют"
   ]
  },
  {
   "cell_type": "markdown",
   "id": "0126446f",
   "metadata": {},
   "source": [
    "### Переименование столбцов по общепринятым правилам (змеиный регистр, англоязычные названия)"
   ]
  },
  {
   "cell_type": "markdown",
   "id": "ae3e5369",
   "metadata": {},
   "source": [
    "- `month` - месяц,\n",
    "- `campaign` - название рекламной кампании,\n",
    "- `campaign_number` - № рекламной кампании,\n",
    "- `show_count` - кол-во показов рекламного объявления\n",
    "- `rating` - cредняя позиция показа рекламного объявления"
   ]
  },
  {
   "cell_type": "code",
   "execution_count": 5,
   "id": "9cb3b9e3",
   "metadata": {},
   "outputs": [],
   "source": [
    "df.columns = ['month', 'campaign', 'campaign_number', 'show_count', 'rating']"
   ]
  },
  {
   "cell_type": "markdown",
   "id": "6b018c3c",
   "metadata": {},
   "source": [
    "### Приведение даты в необходимый для анализа формат (месяц в числовом виде)"
   ]
  },
  {
   "cell_type": "code",
   "execution_count": 6,
   "id": "372335c5",
   "metadata": {},
   "outputs": [],
   "source": [
    "df['month'] = pd.to_datetime(df['month'], format=\"%b %Y\")"
   ]
  },
  {
   "cell_type": "code",
   "execution_count": 7,
   "id": "085e36be",
   "metadata": {},
   "outputs": [],
   "source": [
    "df['month'] = df['month'].dt.month"
   ]
  },
  {
   "cell_type": "markdown",
   "id": "f1f7141c",
   "metadata": {},
   "source": [
    "### Добавление категориальных столбцов"
   ]
  },
  {
   "cell_type": "markdown",
   "id": "0653ec42",
   "metadata": {},
   "source": [
    "Добавим столбец `campaign_type` с категориями:\n",
    "- `brand` - брендовая рекламная кампания\n",
    "- `not_brand` - не брендовая рекламная кампания\n",
    "- `general` - общая рекламная кампания"
   ]
  },
  {
   "cell_type": "code",
   "execution_count": 8,
   "id": "09937469",
   "metadata": {},
   "outputs": [],
   "source": [
    "def campaign_type(campaign):\n",
    "    if 'brand' in campaign:\n",
    "        return 'brand'\n",
    "    if 'general' in campaign:\n",
    "        return 'general'\n",
    "    return 'not_brand'      "
   ]
  },
  {
   "cell_type": "code",
   "execution_count": 9,
   "id": "959e3333",
   "metadata": {},
   "outputs": [],
   "source": [
    "df['campaign_type'] = df['campaign'].apply(campaign_type)"
   ]
  },
  {
   "cell_type": "markdown",
   "id": "45d678e1",
   "metadata": {},
   "source": [
    "Создадим функцию `category_count` для визуализации количества/процента категориальных данных в виде столбчатой диаграммы.\n",
    "\n",
    "На входе функции:\n",
    "- `category` - наименование категориального признака\n",
    "- `ylabel` - наименование оси y\n",
    "- `figsize` - размеры графика"
   ]
  },
  {
   "cell_type": "code",
   "execution_count": 10,
   "id": "ee6eea80",
   "metadata": {},
   "outputs": [],
   "source": [
    "def category_count (category: str, ylabel: str, figsize: tuple): \n",
    "    \n",
    "    plt.figure(figsize=figsize)\n",
    "    plt.title(f'Количество/процент кампаний в зависимости от признака \"{category}\"', fontsize=15, y=1.03)\n",
    "    \n",
    "    ax = sns.countplot(data=df, y=category)\n",
    "    \n",
    "    plt.xlabel('Количество\\nПроцент')\n",
    "    plt.ylabel(ylabel)\n",
    "    \n",
    "    total = len(df)\n",
    "    for p in ax.patches:\n",
    "            ax.annotate('{:.0f}%'.format(100 * p.get_width()/total),\n",
    "                        (p.get_x() + p.get_width(), p.get_y() + p.get_height()/1.3),\n",
    "                        xytext=(5, 0),\n",
    "                        textcoords='offset points',\n",
    "                        ha='left',\n",
    "                        va='center')\n",
    "            ax.annotate('%.0f' % p.get_width(),\n",
    "                        (p.get_x() + p.get_width(), p.get_y() + p.get_height()/3.2),\n",
    "                        xytext=(5, 0),\n",
    "                        textcoords='offset points',\n",
    "                        ha='left',\n",
    "                        va='center') "
   ]
  },
  {
   "cell_type": "code",
   "execution_count": 11,
   "id": "637da8da",
   "metadata": {},
   "outputs": [
    {
     "data": {
      "image/png": "[encoded data removed]",
      "text/plain": [
       "<Figure size 1440x144 with 1 Axes>"
      ]
     },
     "metadata": {},
     "output_type": "display_data"
    }
   ],
   "source": [
    "category_count('campaign_type', 'Тип\\nкампании', (20, 2))"
   ]
  },
  {
   "cell_type": "markdown",
   "id": "dff7d22f",
   "metadata": {},
   "source": [
    "Добавим столбец `rating_type` с категориями:\n",
    "- `1` - позиция ближе к 1\n",
    "- `3` - позиция ближе к 3"
   ]
  },
  {
   "cell_type": "code",
   "execution_count": 12,
   "id": "762a2354",
   "metadata": {},
   "outputs": [],
   "source": [
    "def rating_type(rating):\n",
    "    if rating<=1.5:\n",
    "        return 1\n",
    "    return 3    "
   ]
  },
  {
   "cell_type": "code",
   "execution_count": 13,
   "id": "98558135",
   "metadata": {},
   "outputs": [],
   "source": [
    "df['rating_type'] = df['rating'].apply(rating_type)"
   ]
  },
  {
   "cell_type": "code",
   "execution_count": 14,
   "id": "4ebdc89e",
   "metadata": {},
   "outputs": [
    {
     "data": {
      "image/png": "[encoded data removed]",
      "text/plain": [
       "<Figure size 1440x108 with 1 Axes>"
      ]
     },
     "metadata": {},
     "output_type": "display_data"
    }
   ],
   "source": [
    "category_count('rating_type', 'Ср. позиция', (20, 1.5))"
   ]
  },
  {
   "cell_type": "markdown",
   "id": "386d293f",
   "metadata": {},
   "source": [
    "### Поиск дубликатов по рекламным кампаниям"
   ]
  },
  {
   "cell_type": "markdown",
   "id": "4581faac",
   "metadata": {},
   "source": [
    "Проверим, повторялись ли рекламные кампании в датасете в течение каждого месяца."
   ]
  },
  {
   "cell_type": "markdown",
   "id": "330f33d5",
   "metadata": {},
   "source": [
    "Количество объектов в датасете по месяцам:"
   ]
  },
  {
   "cell_type": "code",
   "execution_count": 15,
   "id": "ebb155a2",
   "metadata": {},
   "outputs": [
    {
     "data": {
      "image/png": "[encoded data removed]",
      "text/plain": [
       "<Figure size 1440x144 with 1 Axes>"
      ]
     },
     "metadata": {},
     "output_type": "display_data"
    }
   ],
   "source": [
    "category_count('month', 'Месяц', (20, 2))"
   ]
  },
  {
   "cell_type": "markdown",
   "id": "5ed72813",
   "metadata": {},
   "source": [
    "- месяцев в отчетном периоде три - январь, февраль, март\n",
    "- количество кампаний от месяца к меcяцу возрастает"
   ]
  },
  {
   "cell_type": "code",
   "execution_count": 16,
   "id": "655dea71",
   "metadata": {},
   "outputs": [],
   "source": [
    "def duplicated_campaign (df: pd.DataFrame):  \n",
    "    print(color.BOLD+color.UNDERLINE+'Количество явных дубликатов в наименованиях рекламных кампаний:'+color.END)\n",
    "    print(df['campaign'].duplicated().sum())\n",
    "    print('\\n'+color.BOLD+color.UNDERLINE+'Количество явных дубликатов в номерах рекламных кампаний:'+color.END)\n",
    "    print(df['campaign_number'].duplicated().sum())\n",
    "    print('\\n'+color.BOLD+color.UNDERLINE+'Количество явных дубликатов в наименованиях и номерах кампаний:'+color.END)\n",
    "    print(df[['campaign','campaign_number']].duplicated().sum())"
   ]
  },
  {
   "cell_type": "code",
   "execution_count": 17,
   "id": "49e4fbba",
   "metadata": {},
   "outputs": [
    {
     "name": "stdout",
     "output_type": "stream",
     "text": [
      "\u001b[1m\u001b[4mКоличество явных дубликатов в наименованиях рекламных кампаний:\u001b[0m\n",
      "1\n",
      "\n",
      "\u001b[1m\u001b[4mКоличество явных дубликатов в номерах рекламных кампаний:\u001b[0m\n",
      "0\n",
      "\n",
      "\u001b[1m\u001b[4mКоличество явных дубликатов в наименованиях и номерах кампаний:\u001b[0m\n",
      "0\n"
     ]
    }
   ],
   "source": [
    "duplicated_campaign (df[df['month']==1])"
   ]
  },
  {
   "cell_type": "code",
   "execution_count": 18,
   "id": "e17a03a2",
   "metadata": {},
   "outputs": [
    {
     "name": "stdout",
     "output_type": "stream",
     "text": [
      "\u001b[1m\u001b[4mКоличество явных дубликатов в наименованиях рекламных кампаний:\u001b[0m\n",
      "0\n",
      "\n",
      "\u001b[1m\u001b[4mКоличество явных дубликатов в номерах рекламных кампаний:\u001b[0m\n",
      "0\n",
      "\n",
      "\u001b[1m\u001b[4mКоличество явных дубликатов в наименованиях и номерах кампаний:\u001b[0m\n",
      "0\n"
     ]
    }
   ],
   "source": [
    "duplicated_campaign (df[df['month']==2])"
   ]
  },
  {
   "cell_type": "code",
   "execution_count": 19,
   "id": "1cbab7e3",
   "metadata": {},
   "outputs": [
    {
     "name": "stdout",
     "output_type": "stream",
     "text": [
      "\u001b[1m\u001b[4mКоличество явных дубликатов в наименованиях рекламных кампаний:\u001b[0m\n",
      "2\n",
      "\n",
      "\u001b[1m\u001b[4mКоличество явных дубликатов в номерах рекламных кампаний:\u001b[0m\n",
      "0\n",
      "\n",
      "\u001b[1m\u001b[4mКоличество явных дубликатов в наименованиях и номерах кампаний:\u001b[0m\n",
      "0\n"
     ]
    }
   ],
   "source": [
    "duplicated_campaign (df[df['month']==3])"
   ]
  },
  {
   "cell_type": "markdown",
   "id": "6c7a3c9e",
   "metadata": {},
   "source": [
    "По согласованию с заказчиком - уникальные рекламные объявления индексируются номером. По месяцам дубликатов в номерах рекламных кампаний нет."
   ]
  },
  {
   "cell_type": "markdown",
   "id": "98cf54b5",
   "metadata": {},
   "source": [
    "## Расчёты"
   ]
  },
  {
   "cell_type": "markdown",
   "id": "f1c14836",
   "metadata": {},
   "source": [
    "### Создание сводных таблиц"
   ]
  },
  {
   "cell_type": "markdown",
   "id": "0d613863",
   "metadata": {},
   "source": [
    "Посмотрим сколько всего показов по типам кампаний."
   ]
  },
  {
   "cell_type": "code",
   "execution_count": 20,
   "id": "7606d945",
   "metadata": {
    "scrolled": true
   },
   "outputs": [
    {
     "data": {
      "text/plain": [
       "campaign_type\n",
       "brand         154448\n",
       "general       336504\n",
       "not_brand    2207520\n",
       "Name: show_count, dtype: int64"
      ]
     },
     "execution_count": 20,
     "metadata": {},
     "output_type": "execute_result"
    }
   ],
   "source": [
    "df.groupby('campaign_type')['show_count'].sum()"
   ]
  },
  {
   "cell_type": "markdown",
   "id": "28d17a5a",
   "metadata": {},
   "source": [
    "#### Сводный датасет для всех типов кампаний"
   ]
  },
  {
   "cell_type": "code",
   "execution_count": 21,
   "id": "6f45be7d",
   "metadata": {
    "scrolled": true
   },
   "outputs": [
    {
     "data": {
      "text/html": [
       "<div>\n",
       "<style scoped>\n",
       "    .dataframe tbody tr th:only-of-type {\n",
       "        vertical-align: middle;\n",
       "    }\n",
       "\n",
       "    .dataframe tbody tr th {\n",
       "        vertical-align: top;\n",
       "    }\n",
       "\n",
       "    .dataframe thead tr th {\n",
       "        text-align: left;\n",
       "    }\n",
       "\n",
       "    .dataframe thead tr:last-of-type th {\n",
       "        text-align: right;\n",
       "    }\n",
       "</style>\n",
       "<table border=\"1\" class=\"dataframe\">\n",
       "  <thead>\n",
       "    <tr>\n",
       "      <th></th>\n",
       "      <th colspan=\"5\" halign=\"left\">show_count</th>\n",
       "    </tr>\n",
       "    <tr>\n",
       "      <th>rating_type</th>\n",
       "      <th colspan=\"2\" halign=\"left\">1</th>\n",
       "      <th colspan=\"3\" halign=\"left\">3</th>\n",
       "    </tr>\n",
       "    <tr>\n",
       "      <th>campaign_type</th>\n",
       "      <th>brand</th>\n",
       "      <th>general</th>\n",
       "      <th>brand</th>\n",
       "      <th>general</th>\n",
       "      <th>not_brand</th>\n",
       "    </tr>\n",
       "    <tr>\n",
       "      <th>month</th>\n",
       "      <th></th>\n",
       "      <th></th>\n",
       "      <th></th>\n",
       "      <th></th>\n",
       "      <th></th>\n",
       "    </tr>\n",
       "  </thead>\n",
       "  <tbody>\n",
       "    <tr>\n",
       "      <th>1</th>\n",
       "      <td>27796.00</td>\n",
       "      <td>9006.00</td>\n",
       "      <td>NaN</td>\n",
       "      <td>NaN</td>\n",
       "      <td>997920.00</td>\n",
       "    </tr>\n",
       "    <tr>\n",
       "      <th>2</th>\n",
       "      <td>31913.00</td>\n",
       "      <td>22429.00</td>\n",
       "      <td>14227.00</td>\n",
       "      <td>15621.00</td>\n",
       "      <td>1209600.00</td>\n",
       "    </tr>\n",
       "    <tr>\n",
       "      <th>3</th>\n",
       "      <td>61065.00</td>\n",
       "      <td>289448.00</td>\n",
       "      <td>19447.00</td>\n",
       "      <td>NaN</td>\n",
       "      <td>NaN</td>\n",
       "    </tr>\n",
       "  </tbody>\n",
       "</table>\n",
       "</div>"
      ],
      "text/plain": [
       "              show_count                                       \n",
       "rating_type            1                  3                    \n",
       "campaign_type      brand   general    brand  general  not_brand\n",
       "month                                                          \n",
       "1               27796.00   9006.00      NaN      NaN  997920.00\n",
       "2               31913.00  22429.00 14227.00 15621.00 1209600.00\n",
       "3               61065.00 289448.00 19447.00      NaN        NaN"
      ]
     },
     "execution_count": 21,
     "metadata": {},
     "output_type": "execute_result"
    }
   ],
   "source": [
    "top = df.pivot_table (index=['month'], columns=['rating_type','campaign_type'], aggfunc={'show_count':'sum'})\n",
    "top"
   ]
  },
  {
   "cell_type": "code",
   "execution_count": 22,
   "id": "36ab5828",
   "metadata": {},
   "outputs": [],
   "source": [
    "top.columns = ['top_1_brand', 'top_1_general', 'top_3_brand', 'top_3_general', 'top_3_not_brand']"
   ]
  },
  {
   "cell_type": "markdown",
   "id": "1021dbed",
   "metadata": {},
   "source": [
    "Получили сводный датасет для всех типов кампаний"
   ]
  },
  {
   "cell_type": "code",
   "execution_count": 23,
   "id": "408c9eca",
   "metadata": {
    "scrolled": true
   },
   "outputs": [
    {
     "data": {
      "text/html": [
       "<div>\n",
       "<style scoped>\n",
       "    .dataframe tbody tr th:only-of-type {\n",
       "        vertical-align: middle;\n",
       "    }\n",
       "\n",
       "    .dataframe tbody tr th {\n",
       "        vertical-align: top;\n",
       "    }\n",
       "\n",
       "    .dataframe thead th {\n",
       "        text-align: right;\n",
       "    }\n",
       "</style>\n",
       "<table border=\"1\" class=\"dataframe\">\n",
       "  <thead>\n",
       "    <tr style=\"text-align: right;\">\n",
       "      <th>month</th>\n",
       "      <th>1</th>\n",
       "      <th>2</th>\n",
       "      <th>3</th>\n",
       "    </tr>\n",
       "  </thead>\n",
       "  <tbody>\n",
       "    <tr>\n",
       "      <th>top_1_brand</th>\n",
       "      <td>27796.00</td>\n",
       "      <td>31913.00</td>\n",
       "      <td>61065.00</td>\n",
       "    </tr>\n",
       "    <tr>\n",
       "      <th>top_1_general</th>\n",
       "      <td>9006.00</td>\n",
       "      <td>22429.00</td>\n",
       "      <td>289448.00</td>\n",
       "    </tr>\n",
       "    <tr>\n",
       "      <th>top_3_brand</th>\n",
       "      <td>NaN</td>\n",
       "      <td>14227.00</td>\n",
       "      <td>19447.00</td>\n",
       "    </tr>\n",
       "    <tr>\n",
       "      <th>top_3_general</th>\n",
       "      <td>NaN</td>\n",
       "      <td>15621.00</td>\n",
       "      <td>NaN</td>\n",
       "    </tr>\n",
       "    <tr>\n",
       "      <th>top_3_not_brand</th>\n",
       "      <td>997920.00</td>\n",
       "      <td>1209600.00</td>\n",
       "      <td>NaN</td>\n",
       "    </tr>\n",
       "  </tbody>\n",
       "</table>\n",
       "</div>"
      ],
      "text/plain": [
       "month                   1          2         3\n",
       "top_1_brand      27796.00   31913.00  61065.00\n",
       "top_1_general     9006.00   22429.00 289448.00\n",
       "top_3_brand           NaN   14227.00  19447.00\n",
       "top_3_general         NaN   15621.00       NaN\n",
       "top_3_not_brand 997920.00 1209600.00       NaN"
      ]
     },
     "execution_count": 23,
     "metadata": {},
     "output_type": "execute_result"
    }
   ],
   "source": [
    "top = top.T\n",
    "top"
   ]
  },
  {
   "cell_type": "markdown",
   "id": "8ba1b701",
   "metadata": {},
   "source": [
    "#### Датасет для ТОП-1"
   ]
  },
  {
   "cell_type": "code",
   "execution_count": 24,
   "id": "4bba7ceb",
   "metadata": {},
   "outputs": [
    {
     "data": {
      "text/html": [
       "<div>\n",
       "<style scoped>\n",
       "    .dataframe tbody tr th:only-of-type {\n",
       "        vertical-align: middle;\n",
       "    }\n",
       "\n",
       "    .dataframe tbody tr th {\n",
       "        vertical-align: top;\n",
       "    }\n",
       "\n",
       "    .dataframe thead th {\n",
       "        text-align: right;\n",
       "    }\n",
       "</style>\n",
       "<table border=\"1\" class=\"dataframe\">\n",
       "  <thead>\n",
       "    <tr style=\"text-align: right;\">\n",
       "      <th>month</th>\n",
       "      <th>1</th>\n",
       "      <th>2</th>\n",
       "      <th>3</th>\n",
       "    </tr>\n",
       "  </thead>\n",
       "  <tbody>\n",
       "    <tr>\n",
       "      <th>top_1_brand</th>\n",
       "      <td>27796.00</td>\n",
       "      <td>31913.00</td>\n",
       "      <td>61065.00</td>\n",
       "    </tr>\n",
       "    <tr>\n",
       "      <th>top_1_general</th>\n",
       "      <td>9006.00</td>\n",
       "      <td>22429.00</td>\n",
       "      <td>289448.00</td>\n",
       "    </tr>\n",
       "  </tbody>\n",
       "</table>\n",
       "</div>"
      ],
      "text/plain": [
       "month                1        2         3\n",
       "top_1_brand   27796.00 31913.00  61065.00\n",
       "top_1_general  9006.00 22429.00 289448.00"
      ]
     },
     "execution_count": 24,
     "metadata": {},
     "output_type": "execute_result"
    }
   ],
   "source": [
    "top_1 = top[top.index.str.contains('top_1')]\n",
    "top_1"
   ]
  },
  {
   "cell_type": "markdown",
   "id": "919b2ffa",
   "metadata": {},
   "source": [
    "#### Датасет для ТОП-3"
   ]
  },
  {
   "cell_type": "code",
   "execution_count": 25,
   "id": "6420c1ef",
   "metadata": {
    "scrolled": true
   },
   "outputs": [
    {
     "data": {
      "text/html": [
       "<div>\n",
       "<style scoped>\n",
       "    .dataframe tbody tr th:only-of-type {\n",
       "        vertical-align: middle;\n",
       "    }\n",
       "\n",
       "    .dataframe tbody tr th {\n",
       "        vertical-align: top;\n",
       "    }\n",
       "\n",
       "    .dataframe thead th {\n",
       "        text-align: right;\n",
       "    }\n",
       "</style>\n",
       "<table border=\"1\" class=\"dataframe\">\n",
       "  <thead>\n",
       "    <tr style=\"text-align: right;\">\n",
       "      <th>month</th>\n",
       "      <th>1</th>\n",
       "      <th>2</th>\n",
       "      <th>3</th>\n",
       "    </tr>\n",
       "  </thead>\n",
       "  <tbody>\n",
       "    <tr>\n",
       "      <th>top_3_brand</th>\n",
       "      <td>NaN</td>\n",
       "      <td>14227.00</td>\n",
       "      <td>19447.00</td>\n",
       "    </tr>\n",
       "    <tr>\n",
       "      <th>top_3_general</th>\n",
       "      <td>NaN</td>\n",
       "      <td>15621.00</td>\n",
       "      <td>NaN</td>\n",
       "    </tr>\n",
       "    <tr>\n",
       "      <th>top_3_not_brand</th>\n",
       "      <td>997920.00</td>\n",
       "      <td>1209600.00</td>\n",
       "      <td>NaN</td>\n",
       "    </tr>\n",
       "  </tbody>\n",
       "</table>\n",
       "</div>"
      ],
      "text/plain": [
       "month                   1          2        3\n",
       "top_3_brand           NaN   14227.00 19447.00\n",
       "top_3_general         NaN   15621.00      NaN\n",
       "top_3_not_brand 997920.00 1209600.00      NaN"
      ]
     },
     "execution_count": 25,
     "metadata": {},
     "output_type": "execute_result"
    }
   ],
   "source": [
    "top_3 = top[top.index.str.contains('top_3')]\n",
    "top_3"
   ]
  },
  {
   "cell_type": "markdown",
   "id": "f449a04f",
   "metadata": {},
   "source": [
    "#### Функция для расчёта процентов"
   ]
  },
  {
   "cell_type": "markdown",
   "id": "92ded694",
   "metadata": {},
   "source": [
    "Создадим функцию `df_percentage()` для расчёта процентов показов.\n",
    "\n",
    "На входе функции:\n",
    "- `data` - исходный датафрейм\n",
    "\n",
    "На выходе функции:\n",
    "- `data` - преобразованный датафрейм"
   ]
  },
  {
   "cell_type": "code",
   "execution_count": 26,
   "id": "73b65178",
   "metadata": {},
   "outputs": [],
   "source": [
    "def df_percentage(data: pd.DataFrame):    \n",
    "    for i,p in zip(data.columns,\n",
    "                   ['percentage_jan', 'percentage_feb', 'percentage_mar']):\n",
    "        data[p] = data.loc[:, i]*100/data.loc[:, i].sum()\n",
    "    data = data.drop([1, 2, 3], axis=1)\n",
    "    data['percentage_sum'] = data[['percentage_jan', 'percentage_feb', 'percentage_mar']].sum(axis=1, min_count=0)\n",
    "    data = data.sort_values(by='percentage_sum', ascending=False).drop('percentage_sum', axis=1).fillna(0)\n",
    "    return data"
   ]
  },
  {
   "cell_type": "markdown",
   "id": "1370a437",
   "metadata": {},
   "source": [
    "#### Проценты для всех типов кампаний"
   ]
  },
  {
   "cell_type": "code",
   "execution_count": 27,
   "id": "59a9bd2b",
   "metadata": {
    "scrolled": true
   },
   "outputs": [
    {
     "data": {
      "text/html": [
       "<div>\n",
       "<style scoped>\n",
       "    .dataframe tbody tr th:only-of-type {\n",
       "        vertical-align: middle;\n",
       "    }\n",
       "\n",
       "    .dataframe tbody tr th {\n",
       "        vertical-align: top;\n",
       "    }\n",
       "\n",
       "    .dataframe thead th {\n",
       "        text-align: right;\n",
       "    }\n",
       "</style>\n",
       "<table border=\"1\" class=\"dataframe\">\n",
       "  <thead>\n",
       "    <tr style=\"text-align: right;\">\n",
       "      <th>month</th>\n",
       "      <th>percentage_jan</th>\n",
       "      <th>percentage_feb</th>\n",
       "      <th>percentage_mar</th>\n",
       "    </tr>\n",
       "  </thead>\n",
       "  <tbody>\n",
       "    <tr>\n",
       "      <th>top_3_not_brand</th>\n",
       "      <td>96.44</td>\n",
       "      <td>93.49</td>\n",
       "      <td>0.00</td>\n",
       "    </tr>\n",
       "    <tr>\n",
       "      <th>top_1_general</th>\n",
       "      <td>0.87</td>\n",
       "      <td>1.73</td>\n",
       "      <td>78.24</td>\n",
       "    </tr>\n",
       "    <tr>\n",
       "      <th>top_1_brand</th>\n",
       "      <td>2.69</td>\n",
       "      <td>2.47</td>\n",
       "      <td>16.51</td>\n",
       "    </tr>\n",
       "    <tr>\n",
       "      <th>top_3_brand</th>\n",
       "      <td>0.00</td>\n",
       "      <td>1.10</td>\n",
       "      <td>5.26</td>\n",
       "    </tr>\n",
       "    <tr>\n",
       "      <th>top_3_general</th>\n",
       "      <td>0.00</td>\n",
       "      <td>1.21</td>\n",
       "      <td>0.00</td>\n",
       "    </tr>\n",
       "  </tbody>\n",
       "</table>\n",
       "</div>"
      ],
      "text/plain": [
       "month            percentage_jan  percentage_feb  percentage_mar\n",
       "top_3_not_brand           96.44           93.49            0.00\n",
       "top_1_general              0.87            1.73           78.24\n",
       "top_1_brand                2.69            2.47           16.51\n",
       "top_3_brand                0.00            1.10            5.26\n",
       "top_3_general              0.00            1.21            0.00"
      ]
     },
     "execution_count": 27,
     "metadata": {},
     "output_type": "execute_result"
    }
   ],
   "source": [
    "top = df_percentage(top)\n",
    "top"
   ]
  },
  {
   "cell_type": "markdown",
   "id": "05b80019",
   "metadata": {},
   "source": [
    "#### Проценты для ТОП-1"
   ]
  },
  {
   "cell_type": "code",
   "execution_count": 28,
   "id": "0fa77b47",
   "metadata": {
    "scrolled": false
   },
   "outputs": [
    {
     "data": {
      "text/html": [
       "<div>\n",
       "<style scoped>\n",
       "    .dataframe tbody tr th:only-of-type {\n",
       "        vertical-align: middle;\n",
       "    }\n",
       "\n",
       "    .dataframe tbody tr th {\n",
       "        vertical-align: top;\n",
       "    }\n",
       "\n",
       "    .dataframe thead th {\n",
       "        text-align: right;\n",
       "    }\n",
       "</style>\n",
       "<table border=\"1\" class=\"dataframe\">\n",
       "  <thead>\n",
       "    <tr style=\"text-align: right;\">\n",
       "      <th>month</th>\n",
       "      <th>percentage_jan</th>\n",
       "      <th>percentage_feb</th>\n",
       "      <th>percentage_mar</th>\n",
       "    </tr>\n",
       "  </thead>\n",
       "  <tbody>\n",
       "    <tr>\n",
       "      <th>top_1_brand</th>\n",
       "      <td>75.53</td>\n",
       "      <td>58.73</td>\n",
       "      <td>17.42</td>\n",
       "    </tr>\n",
       "    <tr>\n",
       "      <th>top_1_general</th>\n",
       "      <td>24.47</td>\n",
       "      <td>41.27</td>\n",
       "      <td>82.58</td>\n",
       "    </tr>\n",
       "  </tbody>\n",
       "</table>\n",
       "</div>"
      ],
      "text/plain": [
       "month          percentage_jan  percentage_feb  percentage_mar\n",
       "top_1_brand             75.53           58.73           17.42\n",
       "top_1_general           24.47           41.27           82.58"
      ]
     },
     "execution_count": 28,
     "metadata": {},
     "output_type": "execute_result"
    }
   ],
   "source": [
    "top_1 = df_percentage(top_1)\n",
    "top_1"
   ]
  },
  {
   "cell_type": "markdown",
   "id": "05df1574",
   "metadata": {},
   "source": [
    "#### Проценты для ТОП-3"
   ]
  },
  {
   "cell_type": "code",
   "execution_count": 29,
   "id": "ea587ed1",
   "metadata": {
    "scrolled": true
   },
   "outputs": [
    {
     "data": {
      "text/html": [
       "<div>\n",
       "<style scoped>\n",
       "    .dataframe tbody tr th:only-of-type {\n",
       "        vertical-align: middle;\n",
       "    }\n",
       "\n",
       "    .dataframe tbody tr th {\n",
       "        vertical-align: top;\n",
       "    }\n",
       "\n",
       "    .dataframe thead th {\n",
       "        text-align: right;\n",
       "    }\n",
       "</style>\n",
       "<table border=\"1\" class=\"dataframe\">\n",
       "  <thead>\n",
       "    <tr style=\"text-align: right;\">\n",
       "      <th>month</th>\n",
       "      <th>percentage_jan</th>\n",
       "      <th>percentage_feb</th>\n",
       "      <th>percentage_mar</th>\n",
       "    </tr>\n",
       "  </thead>\n",
       "  <tbody>\n",
       "    <tr>\n",
       "      <th>top_3_not_brand</th>\n",
       "      <td>100.00</td>\n",
       "      <td>97.59</td>\n",
       "      <td>0.00</td>\n",
       "    </tr>\n",
       "    <tr>\n",
       "      <th>top_3_brand</th>\n",
       "      <td>0.00</td>\n",
       "      <td>1.15</td>\n",
       "      <td>100.00</td>\n",
       "    </tr>\n",
       "    <tr>\n",
       "      <th>top_3_general</th>\n",
       "      <td>0.00</td>\n",
       "      <td>1.26</td>\n",
       "      <td>0.00</td>\n",
       "    </tr>\n",
       "  </tbody>\n",
       "</table>\n",
       "</div>"
      ],
      "text/plain": [
       "month            percentage_jan  percentage_feb  percentage_mar\n",
       "top_3_not_brand          100.00           97.59            0.00\n",
       "top_3_brand                0.00            1.15          100.00\n",
       "top_3_general              0.00            1.26            0.00"
      ]
     },
     "execution_count": 29,
     "metadata": {},
     "output_type": "execute_result"
    }
   ],
   "source": [
    "top_3 = df_percentage(top_3)\n",
    "top_3"
   ]
  },
  {
   "cell_type": "markdown",
   "id": "b370167c",
   "metadata": {},
   "source": [
    "## Визуализация"
   ]
  },
  {
   "cell_type": "markdown",
   "id": "8fb2e95b",
   "metadata": {},
   "source": [
    "### Функция создания тепловых карт  % показов"
   ]
  },
  {
   "cell_type": "markdown",
   "id": "3a165753",
   "metadata": {},
   "source": [
    "Создадим функцию `heat_percentage()`.\n",
    "\n",
    "Функция выполняет:\n",
    "- визуализацию результатов в виде тепловой карты\n",
    "- эскпорт графики в `jpeg` формате\n",
    "\n",
    "На входе функции:\n",
    "- `df` - датасет\n",
    "- `title` - наименование графика\n",
    "- `y_title` - смещение наименования графика по оси y\n",
    "- `width` - ширина графика\n",
    "- `height` - высота графика\n",
    "\n",
    "На выходе функции:\n",
    "- тепловая карта для оценки динамики изменения процента показов по месяцам"
   ]
  },
  {
   "cell_type": "code",
   "execution_count": 30,
   "id": "c4e607df",
   "metadata": {},
   "outputs": [],
   "source": [
    "def heat_percentage (df:pd.DataFrame, title: str, y_title: float, width: float, height: float):    \n",
    "    fig = px.imshow(df,\n",
    "                    text_auto='.1f',\n",
    "                    aspect=\"auto\")\n",
    "    \n",
    "    fig.update_xaxes(showgrid=False)\n",
    "    fig.update_yaxes(showgrid=False)\n",
    "    \n",
    "    fig.update_layout(title={'text': f'{title}.<br>Тепловая карта % показов',\n",
    "                             'y':y_title,\n",
    "                             'x':0.5,\n",
    "                             'xanchor': 'center',\n",
    "                             'yanchor': 'top'},                      \n",
    "                      width=width,\n",
    "                      height=height,                      \n",
    "                      coloraxis = dict(colorscale='YlGn', cmax=100, cmin=0),                      \n",
    "                      coloraxis_colorbar=dict(title = dict(text='% показов', side='right'),\n",
    "                                              x=1.0,\n",
    "                                              len=1.05,\n",
    "                                              thickness=15)\n",
    "                      )\n",
    "    \n",
    "    fig.show('png')\n",
    "    fig.write_image(f'M:/datasets/presentation/images/{title} хитмэп.jpeg', scale=5)"
   ]
  },
  {
   "cell_type": "code",
   "execution_count": 31,
   "id": "68506ca9",
   "metadata": {
    "scrolled": false
   },
   "outputs": [
    {
     "data": {
      "image/png": "[encoded data removed]"
     },
     "metadata": {},
     "output_type": "display_data"
    }
   ],
   "source": [
    "heat_percentage(top,\n",
    "                'Все типы кампаний',\n",
    "                y_title = 0.95,\n",
    "                width = 410,\n",
    "                height = 490)"
   ]
  },
  {
   "cell_type": "code",
   "execution_count": 32,
   "id": "0493f479",
   "metadata": {},
   "outputs": [
    {
     "data": {
      "image/png": "[encoded data removed]"
     },
     "metadata": {},
     "output_type": "display_data"
    }
   ],
   "source": [
    "heat_percentage(top_1,\n",
    "                'ТОП-1',\n",
    "                y_title = 0.95,\n",
    "                width = 410,\n",
    "                height = 300)"
   ]
  },
  {
   "cell_type": "code",
   "execution_count": 33,
   "id": "2bee8521",
   "metadata": {},
   "outputs": [
    {
     "data": {
      "image/png": "[encoded data removed]"
     },
     "metadata": {},
     "output_type": "display_data"
    }
   ],
   "source": [
    "heat_percentage(top_3,\n",
    "                'ТОП-3',\n",
    "                y_title = 0.95,\n",
    "                width = 410,\n",
    "                height = 370)"
   ]
  },
  {
   "cell_type": "code",
   "execution_count": 34,
   "id": "aaae5308",
   "metadata": {},
   "outputs": [],
   "source": [
    "def stack_percentage (df:pd.DataFrame, title: str, y_title: float, width: float, height: float):   \n",
    "    fig = go.Figure()\n",
    "    \n",
    "    fig.add_trace(go.Bar(\n",
    "        y=df.index, orientation='h', width = 0.9,\n",
    "        x=df['percentage_jan'],\n",
    "        name='янв',\n",
    "        marker_color='deepskyblue',\n",
    "    ))\n",
    "    fig.add_trace(go.Bar(\n",
    "        y=df.index, orientation='h', width = 0.9,\n",
    "        x=df['percentage_feb'],\n",
    "        name='фев',\n",
    "        marker_color='limegreen',\n",
    "    ))\n",
    "    fig.add_trace(go.Bar(\n",
    "        y=df.index, orientation='h', width = 0.9,\n",
    "        x=df['percentage_mar'],\n",
    "        name='мар',\n",
    "        marker_color='gold',\n",
    "    ))\n",
    "    fig.update_traces(marker={'opacity': 0.5})    \n",
    "    fig.update_xaxes(showticklabels=False, showgrid=False)\n",
    "    \n",
    "    fig.update_layout(barmode='stack',\n",
    "                      title={'text': f'{title}.<br>Стековая диаграмма % показов',\n",
    "                             'y': y_title,\n",
    "                             'x': 0.5,\n",
    "                             'xanchor': 'center',\n",
    "                             'yanchor': 'top'},\n",
    "                      \n",
    "                      width = width,\n",
    "                      height = height,\n",
    "                      autosize = False,\n",
    "                      plot_bgcolor='rgba(0,0,0,0)',\n",
    "                      legend=dict(title='Месяц', x=0.25, y=-.01, orientation = 'h', traceorder = 'normal'))\n",
    "    \n",
    "    fig.update_layout(hovermode=\"y unified\")\n",
    "    \n",
    "    fig.show('png')\n",
    "    fig.write_image(f'M:/datasets/presentation/images/{title} стековая диаграмма.jpeg', scale=5)"
   ]
  },
  {
   "cell_type": "code",
   "execution_count": 35,
   "id": "b10ee7ca",
   "metadata": {},
   "outputs": [
    {
     "data": {
      "image/png": "[encoded data removed]"
     },
     "metadata": {},
     "output_type": "display_data"
    }
   ],
   "source": [
    "stack_percentage (top, 'Все кампании', y_title=0.88, width=950, height=400)"
   ]
  },
  {
   "cell_type": "code",
   "execution_count": 36,
   "id": "7c7eed4a",
   "metadata": {},
   "outputs": [
    {
     "data": {
      "image/png": "[encoded data removed]"
     },
     "metadata": {},
     "output_type": "display_data"
    }
   ],
   "source": [
    "stack_percentage (top_1, 'ТОП-1', y_title=0.85, width=950, height=265)"
   ]
  },
  {
   "cell_type": "code",
   "execution_count": 37,
   "id": "4d116146",
   "metadata": {},
   "outputs": [
    {
     "data": {
      "image/png": "[encoded data removed]"
     },
     "metadata": {},
     "output_type": "display_data"
    }
   ],
   "source": [
    "stack_percentage (top_3, 'ТОП-3', y_title=0.88, width=950, height=320)"
   ]
  },
  {
   "cell_type": "markdown",
   "id": "299d1de5",
   "metadata": {},
   "source": [
    "## Выгрузка данных"
   ]
  },
  {
   "cell_type": "markdown",
   "id": "62898142",
   "metadata": {},
   "source": [
    "- Для удобства работы заказчика с полученными данными выгрузим результаты в формате `xlsx`"
   ]
  },
  {
   "cell_type": "code",
   "execution_count": 38,
   "id": "ac707639",
   "metadata": {},
   "outputs": [],
   "source": [
    "writer = pd.ExcelWriter('M:/datasets/presentation/presentation_task_3.xlsx', engine='xlsxwriter')\n",
    "\n",
    "top.to_excel(writer, sheet_name='top')\n",
    "top_1.to_excel(writer, sheet_name='top_1')\n",
    "top_3.to_excel(writer, sheet_name='top_3')\n",
    "\n",
    "writer.save()"
   ]
  },
  {
   "cell_type": "markdown",
   "id": "d0101ba1",
   "metadata": {},
   "source": [
    "## Выводы"
   ]
  },
  {
   "cell_type": "markdown",
   "id": "57429d1b",
   "metadata": {},
   "source": [
    "Результаты маркетологов в части повышения видимости рекламы.\n",
    "\n",
    "ТОП-1 :\n",
    "- неброндовые кампании в ТОП-1 не входят\n",
    "- у брендовых кампаний максимальный суммарный процент немного выше, чем у общих\n",
    "- процент показов общих рекламных кампаний от месяца к месяцу растет, у брендовых падает\n",
    "\n",
    "ТОП-3:\n",
    "- суммарный процент небрендовых кампаний значительно выше остальных, однако, в марте небрендовых кампаний не было\n",
    "- процент общих рекламных кампаний в ТОП-3 минимальный\n",
    "- в марте проходили только брендовые рекламные кампании в этой категории\n",
    "\n",
    "Все кампании:\n",
    "- суммарный процент небрендовых кампаний значительно выше остальных, однако, в марте небрендовых кампаний не было\n",
    "- процентом рекламных общих кампаний ТОП-3 в категории \"все кампании\" можно пренебречь\n",
    "- общие рекламные кампании категории ТОП-1 лидируют по проценту показов в марте\n",
    "\n",
    "На основании проделанной работы заказчику предоставлен слайд для отчетной презентации."
   ]
  }
 ],
 "metadata": {
  "kernelspec": {
   "display_name": "Python 3 (ipykernel)",
   "language": "python",
   "name": "python3"
  },
  "language_info": {
   "codemirror_mode": {
    "name": "ipython",
    "version": 3
   },
   "file_extension": ".py",
   "mimetype": "text/x-python",
   "name": "python",
   "nbconvert_exporter": "python",
   "pygments_lexer": "ipython3",
   "version": "3.8.10"
  },
  "toc": {
   "base_numbering": 1,
   "nav_menu": {},
   "number_sections": true,
   "sideBar": true,
   "skip_h1_title": true,
   "title_cell": "Table of Contents",
   "title_sidebar": "Contents",
   "toc_cell": false,
   "toc_position": {
    "height": "calc(100% - 180px)",
    "left": "10px",
    "top": "150px",
    "width": "446.222px"
   },
   "toc_section_display": true,
   "toc_window_display": false
  }
 },
 "nbformat": 4,
 "nbformat_minor": 5
}
