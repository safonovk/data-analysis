{
 "cells": [
  {
   "cell_type": "markdown",
   "id": "365b7c58",
   "metadata": {},
   "source": [
    "# Последовательности касаний"
   ]
  },
  {
   "cell_type": "markdown",
   "id": "1bf1a82b",
   "metadata": {},
   "source": [
    "## Получение и изучение данных"
   ]
  },
  {
   "cell_type": "markdown",
   "id": "40afd1c9",
   "metadata": {},
   "source": [
    "###  Поставленная задача и исходные данные"
   ]
  },
  {
   "cell_type": "markdown",
   "id": "27858305",
   "metadata": {},
   "source": [
    "**Заказчик: отдел маркетинга**\n",
    "\n",
    "**Цель**\n",
    "\n",
    "Определение оптимальной последовательности касаний пользователей для совершения транзакции в интернете.\n",
    "\n",
    "\n",
    "**Задачи**\n",
    "\n",
    "- Выгрузить таблицу из датасета ga_sessions BigQuery с необходимым набором полей и периодом запроса 2 недели.\n",
    "- Сформировать последовательности источников визитов пользователя, которые привели к транзакции.\n",
    "- Определить топ-10 самых популярных цепочек касаний. Популярность определяется на основе количества таких цепочек в датасете.\n",
    "\n",
    "**Особенности**\n",
    "\n",
    "- Источник определяется связкой utm_source + utm_medium. \n",
    "- Транзакция определяется, как hits.transaction.transactionId, соответствует регулярному выражению .*\\d+.*\n",
    "\n",
    "Пример:\n",
    "- Пользователь, который совершил визит с рекламы Яндекса, а затем с рекламы Google и совершил транзакцию будет иметь цепочку\n",
    "`yandex_cpc => google_cpc`.\n",
    "- Пользователь совершил переход из поиска Google, а затем из поиска Яндекс. Транзакций не совершал. Цепочка для него отсутствует."
   ]
  },
  {
   "cell_type": "markdown",
   "id": "2572ba39",
   "metadata": {},
   "source": [
    "### Код получения таблицы из BQ"
   ]
  },
  {
   "cell_type": "markdown",
   "id": "ce091335",
   "metadata": {},
   "source": [
    "```sql\n",
    "SELECT trafficSource.medium,\n",
    "       trafficSource.source,\n",
    "       h.transaction.transactionId,\n",
    "       fullVisitorId,\n",
    "       visitNumber\n",
    "FROM `bigquery-public-data.google_analytics_sample.ga_sessions_*`,\n",
    "     UNNEST(hits) AS h\n",
    "WHERE _TABLE_SUFFIX BETWEEN '20170701' AND '20170714'\n",
    "```"
   ]
  },
  {
   "cell_type": "markdown",
   "id": "72e1ed41",
   "metadata": {},
   "source": [
    "### Импорт библиотек и базовые настройки"
   ]
  },
  {
   "cell_type": "code",
   "execution_count": 1,
   "id": "b6a777b7",
   "metadata": {},
   "outputs": [],
   "source": [
    "import pandas as pd\n",
    "pd.set_option('display.max_colwidth', 100)\n",
    "pd.options.display.float_format = '{:.2f}'.format\n",
    "\n",
    "import re\n",
    "\n",
    "import matplotlib\n",
    "import matplotlib.pyplot as plt\n",
    "%matplotlib inline\n",
    "plt.rcParams['font.size'] = '13'\n",
    "\n",
    "import seaborn as sns\n",
    "sns.set_style('darkgrid')\n",
    "sns.set_palette('Set2')"
   ]
  },
  {
   "cell_type": "markdown",
   "id": "679ba236",
   "metadata": {},
   "source": [
    "Для удобства вывода на печать создадим класс для работы с текстом"
   ]
  },
  {
   "cell_type": "code",
   "execution_count": 2,
   "id": "abfd6940",
   "metadata": {},
   "outputs": [],
   "source": [
    "class color:\n",
    "    BOLD = '\\033[1m'\n",
    "    UNDERLINE = '\\033[4m'\n",
    "    END = '\\033[0m'\n",
    "    OKGREEN = '\\033[92m'\n",
    "    WARNING = '\\033[93m'\n",
    "    FAIL = '\\033[91m'"
   ]
  },
  {
   "cell_type": "markdown",
   "id": "d7b00093",
   "metadata": {},
   "source": [
    "### Обзор и предообработка данных"
   ]
  },
  {
   "cell_type": "markdown",
   "id": "b12f89c7",
   "metadata": {},
   "source": [
    "#### Чтение файлов с данными"
   ]
  },
  {
   "cell_type": "code",
   "execution_count": 3,
   "id": "94f03643",
   "metadata": {},
   "outputs": [],
   "source": [
    "df = pd.read_csv('M:/datasets/ga_sessions.csv')"
   ]
  },
  {
   "cell_type": "markdown",
   "id": "67b94ff2",
   "metadata": {},
   "source": [
    "#### Изучение общей информации о данных, предобработка"
   ]
  },
  {
   "cell_type": "code",
   "execution_count": 4,
   "id": "072d8258",
   "metadata": {
    "scrolled": false
   },
   "outputs": [
    {
     "name": "stdout",
     "output_type": "stream",
     "text": [
      "\u001b[1m\u001b[4mИнфо\u001b[0m\n",
      "\n",
      "<class 'pandas.core.frame.DataFrame'>\n",
      "RangeIndex: 136387 entries, 0 to 136386\n",
      "Data columns (total 5 columns):\n",
      " #   Column         Non-Null Count   Dtype \n",
      "---  ------         --------------   ----- \n",
      " 0   medium         136387 non-null  object\n",
      " 1   source         136387 non-null  object\n",
      " 2   transactionId  862 non-null     object\n",
      " 3   fullVisitorId  136387 non-null  uint64\n",
      " 4   visitNumber    136387 non-null  int64 \n",
      "dtypes: int64(1), object(3), uint64(1)\n",
      "memory usage: 5.2+ MB\n",
      "\n",
      "\u001b[1m\u001b[4mПервые 5 строк\u001b[0m\n"
     ]
    },
    {
     "data": {
      "text/html": [
       "<div>\n",
       "<style scoped>\n",
       "    .dataframe tbody tr th:only-of-type {\n",
       "        vertical-align: middle;\n",
       "    }\n",
       "\n",
       "    .dataframe tbody tr th {\n",
       "        vertical-align: top;\n",
       "    }\n",
       "\n",
       "    .dataframe thead th {\n",
       "        text-align: right;\n",
       "    }\n",
       "</style>\n",
       "<table border=\"1\" class=\"dataframe\">\n",
       "  <thead>\n",
       "    <tr style=\"text-align: right;\">\n",
       "      <th></th>\n",
       "      <th>medium</th>\n",
       "      <th>source</th>\n",
       "      <th>transactionId</th>\n",
       "      <th>fullVisitorId</th>\n",
       "      <th>visitNumber</th>\n",
       "    </tr>\n",
       "  </thead>\n",
       "  <tbody>\n",
       "    <tr>\n",
       "      <th>0</th>\n",
       "      <td>(none)</td>\n",
       "      <td>(direct)</td>\n",
       "      <td>NaN</td>\n",
       "      <td>5608711884908379823</td>\n",
       "      <td>1</td>\n",
       "    </tr>\n",
       "    <tr>\n",
       "      <th>1</th>\n",
       "      <td>(none)</td>\n",
       "      <td>(direct)</td>\n",
       "      <td>NaN</td>\n",
       "      <td>611838871138510022</td>\n",
       "      <td>1</td>\n",
       "    </tr>\n",
       "    <tr>\n",
       "      <th>2</th>\n",
       "      <td>(none)</td>\n",
       "      <td>(direct)</td>\n",
       "      <td>NaN</td>\n",
       "      <td>4470711526896413729</td>\n",
       "      <td>4</td>\n",
       "    </tr>\n",
       "    <tr>\n",
       "      <th>3</th>\n",
       "      <td>(none)</td>\n",
       "      <td>(direct)</td>\n",
       "      <td>NaN</td>\n",
       "      <td>7592405813682370168</td>\n",
       "      <td>1</td>\n",
       "    </tr>\n",
       "    <tr>\n",
       "      <th>4</th>\n",
       "      <td>(none)</td>\n",
       "      <td>(direct)</td>\n",
       "      <td>NaN</td>\n",
       "      <td>613644331988705072</td>\n",
       "      <td>2</td>\n",
       "    </tr>\n",
       "  </tbody>\n",
       "</table>\n",
       "</div>"
      ],
      "text/plain": [
       "   medium    source transactionId        fullVisitorId  visitNumber\n",
       "0  (none)  (direct)           NaN  5608711884908379823            1\n",
       "1  (none)  (direct)           NaN   611838871138510022            1\n",
       "2  (none)  (direct)           NaN  4470711526896413729            4\n",
       "3  (none)  (direct)           NaN  7592405813682370168            1\n",
       "4  (none)  (direct)           NaN   613644331988705072            2"
      ]
     },
     "metadata": {},
     "output_type": "display_data"
    },
    {
     "name": "stdout",
     "output_type": "stream",
     "text": [
      "\n",
      "\u001b[1m\u001b[4mКоличество явных дубликатов в датасете:\u001b[0m\n",
      "103234\n"
     ]
    }
   ],
   "source": [
    "print(color.BOLD+color.UNDERLINE+'Инфо'+color.END+'\\n')\n",
    "df.info()\n",
    "str_count = 5\n",
    "print('\\n'+color.BOLD+color.UNDERLINE+f'Первые {str_count} строк'+color.END)\n",
    "display(df.head(str_count))\n",
    "print('\\n'+color.BOLD+color.UNDERLINE+'Количество явных дубликатов в датасете:'+color.END)\n",
    "print(df.duplicated().sum())"
   ]
  },
  {
   "cell_type": "markdown",
   "id": "f557004b",
   "metadata": {},
   "source": [
    "Описание столбцов датасета:\n",
    "- `medium` - канал привлечения пользователя\n",
    "- `source` - источник привлечения пользователя\n",
    "- `transactionId` - идентификатор транзации\n",
    "- `fullVisitorId` - идентификатор пользователя\n",
    "- `visitNumber` - номер визита"
   ]
  },
  {
   "cell_type": "markdown",
   "id": "e1a6bf0e",
   "metadata": {},
   "source": [
    "Выводы на основе наблюдей:\n",
    "- пропуски в транзакциях, далее необходимо разобраться, как с ними поступить\n",
    "- перевести наименования столбцов из `CamelCase` в `snake_case`\n",
    "- удалить явные дубликаты"
   ]
  },
  {
   "cell_type": "markdown",
   "id": "f2e77673",
   "metadata": {},
   "source": [
    "#### Переименование столбцов в змеином регистре"
   ]
  },
  {
   "cell_type": "markdown",
   "id": "b9db545d",
   "metadata": {},
   "source": [
    "Для преобразования в змеиный регистр используем модуль `re` и `list comprehension`"
   ]
  },
  {
   "cell_type": "code",
   "execution_count": 5,
   "id": "86714232",
   "metadata": {},
   "outputs": [],
   "source": [
    "df.columns = [re.sub(r'(?<!^)(?=[A-Z])', '_', i).lower() for i in df.columns]"
   ]
  },
  {
   "cell_type": "code",
   "execution_count": 6,
   "id": "fba19e49",
   "metadata": {},
   "outputs": [
    {
     "data": {
      "text/plain": [
       "Index(['medium', 'source', 'transaction_id', 'full_visitor_id',\n",
       "       'visit_number'],\n",
       "      dtype='object')"
      ]
     },
     "execution_count": 6,
     "metadata": {},
     "output_type": "execute_result"
    }
   ],
   "source": [
    "df.columns"
   ]
  },
  {
   "cell_type": "markdown",
   "id": "7f7b8d49",
   "metadata": {},
   "source": [
    "#### Удаление явных дубликатов"
   ]
  },
  {
   "cell_type": "code",
   "execution_count": 7,
   "id": "5aa23933",
   "metadata": {},
   "outputs": [],
   "source": [
    "df = df.drop_duplicates().reset_index(drop=True)"
   ]
  },
  {
   "cell_type": "markdown",
   "id": "26c05530",
   "metadata": {},
   "source": [
    "## Подготовка данных к формированию цепочек"
   ]
  },
  {
   "cell_type": "markdown",
   "id": "f6edec2f",
   "metadata": {},
   "source": [
    "### Определение данных по транзакциям"
   ]
  },
  {
   "cell_type": "markdown",
   "id": "c1904451",
   "metadata": {},
   "source": [
    "Согласно исходным данным транзакция соответствует регулярному выражению `.*\\d+.*`.\n",
    "\n",
    "Сохраним в отдельный столбец `transaction_done` факт совершения транзакции:\n",
    "- `1` - транзакция совершена\n",
    "- `0` - транзакция не совершена"
   ]
  },
  {
   "cell_type": "code",
   "execution_count": 8,
   "id": "cd60b370",
   "metadata": {},
   "outputs": [],
   "source": [
    "df['transaction_done'] = df['transaction_id'].str.replace(r'.*\\d+.*', '1', regex=True)"
   ]
  },
  {
   "cell_type": "code",
   "execution_count": 9,
   "id": "b2d89140",
   "metadata": {},
   "outputs": [],
   "source": [
    "df['transaction_done'] = df['transaction_done'].fillna('0')"
   ]
  },
  {
   "cell_type": "code",
   "execution_count": 10,
   "id": "a574932e",
   "metadata": {},
   "outputs": [
    {
     "data": {
      "image/png": "[encoded data removed]",
      "text/plain": [
       "<Figure size 1440x144 with 1 Axes>"
      ]
     },
     "metadata": {},
     "output_type": "display_data"
    }
   ],
   "source": [
    "plt.figure(figsize=(20, 2))\n",
    "plt.title('Количество/процент кликов в зависимости от совершения транзакции', fontsize=15, y=1.03)\n",
    "\n",
    "ax = sns.countplot(data=df, y='transaction_done')\n",
    "\n",
    "plt.xlabel('Количество\\nПроцент')\n",
    "plt.ylabel('Идикация\\nтранзакции')\n",
    "\n",
    "total = len(df)\n",
    "for p in ax.patches:\n",
    "        ax.annotate('{:.0f}%'.format(100 * p.get_width()/total),\n",
    "                    (p.get_x() + p.get_width(), p.get_y() + p.get_height()/1.3),\n",
    "                    xytext=(5, 0),\n",
    "                    textcoords='offset points',\n",
    "                    ha='left',\n",
    "                    va='center')\n",
    "        ax.annotate('%.0f' % p.get_width(),\n",
    "                    (p.get_x() + p.get_width(), p.get_y() + p.get_height()/3.2),\n",
    "                    xytext=(5, 0),\n",
    "                    textcoords='offset points',\n",
    "                    ha='left',\n",
    "                    va='center') "
   ]
  },
  {
   "cell_type": "markdown",
   "id": "c3e02da7",
   "metadata": {},
   "source": [
    "Для порядка преобразуем тип данных в столбце `transaction_done` в целочисленный "
   ]
  },
  {
   "cell_type": "code",
   "execution_count": 11,
   "id": "f2b9e6ed",
   "metadata": {},
   "outputs": [],
   "source": [
    "df['transaction_done'] = df['transaction_done'].astype('int')"
   ]
  },
  {
   "cell_type": "markdown",
   "id": "31faf1ee",
   "metadata": {},
   "source": [
    "### Объединение данных по источнику"
   ]
  },
  {
   "cell_type": "markdown",
   "id": "babf3911",
   "metadata": {},
   "source": [
    "Согласно исходным данным источник определяется связкой `source + medium`, cохраним её отдельный столбец `source_medium`"
   ]
  },
  {
   "cell_type": "code",
   "execution_count": 12,
   "id": "66d66df9",
   "metadata": {},
   "outputs": [],
   "source": [
    "df['source_medium'] = df['source']+'_'+df['medium']"
   ]
  },
  {
   "cell_type": "markdown",
   "id": "4a8c6f2e",
   "metadata": {},
   "source": [
    "Далее отдельно столбцы `source` и `medium` не понадобятся. Удалим их."
   ]
  },
  {
   "cell_type": "code",
   "execution_count": 13,
   "id": "0b10be28",
   "metadata": {},
   "outputs": [],
   "source": [
    "df = df.drop(['source', 'medium'], axis=1)"
   ]
  },
  {
   "cell_type": "markdown",
   "id": "a5ee4346",
   "metadata": {},
   "source": [
    "### Выбор пользователей, совершивших транзакцию"
   ]
  },
  {
   "cell_type": "markdown",
   "id": "abcb95cc",
   "metadata": {},
   "source": [
    "Сохраним массив пользователей, совершивших транзакцию, в отдельную переменную. "
   ]
  },
  {
   "cell_type": "code",
   "execution_count": 14,
   "id": "e203ffb6",
   "metadata": {},
   "outputs": [],
   "source": [
    "visitor_filter = df[df['transaction_done'] == 1]['full_visitor_id'].unique()"
   ]
  },
  {
   "cell_type": "markdown",
   "id": "bd81c13e",
   "metadata": {},
   "source": [
    "Оставим в датасете только пользователей, совершивших транзакцию"
   ]
  },
  {
   "cell_type": "code",
   "execution_count": 15,
   "id": "5cdaae46",
   "metadata": {},
   "outputs": [],
   "source": [
    "df = df[df['full_visitor_id'].isin(visitor_filter)]"
   ]
  },
  {
   "cell_type": "code",
   "execution_count": 16,
   "id": "fe541142",
   "metadata": {
    "scrolled": false
   },
   "outputs": [
    {
     "data": {
      "text/html": [
       "<div>\n",
       "<style scoped>\n",
       "    .dataframe tbody tr th:only-of-type {\n",
       "        vertical-align: middle;\n",
       "    }\n",
       "\n",
       "    .dataframe tbody tr th {\n",
       "        vertical-align: top;\n",
       "    }\n",
       "\n",
       "    .dataframe thead th {\n",
       "        text-align: right;\n",
       "    }\n",
       "</style>\n",
       "<table border=\"1\" class=\"dataframe\">\n",
       "  <thead>\n",
       "    <tr style=\"text-align: right;\">\n",
       "      <th></th>\n",
       "      <th>transaction_id</th>\n",
       "      <th>full_visitor_id</th>\n",
       "      <th>visit_number</th>\n",
       "      <th>transaction_done</th>\n",
       "      <th>source_medium</th>\n",
       "    </tr>\n",
       "  </thead>\n",
       "  <tbody>\n",
       "    <tr>\n",
       "      <th>32</th>\n",
       "      <td>NaN</td>\n",
       "      <td>3694234028523165868</td>\n",
       "      <td>112</td>\n",
       "      <td>0</td>\n",
       "      <td>(direct)_(none)</td>\n",
       "    </tr>\n",
       "    <tr>\n",
       "      <th>282</th>\n",
       "      <td>NaN</td>\n",
       "      <td>9026840718082010040</td>\n",
       "      <td>33</td>\n",
       "      <td>0</td>\n",
       "      <td>(direct)_(none)</td>\n",
       "    </tr>\n",
       "    <tr>\n",
       "      <th>320</th>\n",
       "      <td>NaN</td>\n",
       "      <td>5960127137243713650</td>\n",
       "      <td>8</td>\n",
       "      <td>0</td>\n",
       "      <td>(direct)_(none)</td>\n",
       "    </tr>\n",
       "    <tr>\n",
       "      <th>412</th>\n",
       "      <td>NaN</td>\n",
       "      <td>1973770164859106217</td>\n",
       "      <td>2</td>\n",
       "      <td>0</td>\n",
       "      <td>(direct)_(none)</td>\n",
       "    </tr>\n",
       "    <tr>\n",
       "      <th>413</th>\n",
       "      <td>ORD201707051779</td>\n",
       "      <td>1973770164859106217</td>\n",
       "      <td>2</td>\n",
       "      <td>1</td>\n",
       "      <td>(direct)_(none)</td>\n",
       "    </tr>\n",
       "  </tbody>\n",
       "</table>\n",
       "</div>"
      ],
      "text/plain": [
       "      transaction_id      full_visitor_id  visit_number  transaction_done  \\\n",
       "32               NaN  3694234028523165868           112                 0   \n",
       "282              NaN  9026840718082010040            33                 0   \n",
       "320              NaN  5960127137243713650             8                 0   \n",
       "412              NaN  1973770164859106217             2                 0   \n",
       "413  ORD201707051779  1973770164859106217             2                 1   \n",
       "\n",
       "       source_medium  \n",
       "32   (direct)_(none)  \n",
       "282  (direct)_(none)  \n",
       "320  (direct)_(none)  \n",
       "412  (direct)_(none)  \n",
       "413  (direct)_(none)  "
      ]
     },
     "execution_count": 16,
     "metadata": {},
     "output_type": "execute_result"
    }
   ],
   "source": [
    "df.head()"
   ]
  },
  {
   "cell_type": "markdown",
   "id": "6d55eeb6",
   "metadata": {},
   "source": [
    "### Сортировка датасета"
   ]
  },
  {
   "cell_type": "markdown",
   "id": "1f731df4",
   "metadata": {},
   "source": [
    "Отсортируем датасет по пользователю и номеру визита"
   ]
  },
  {
   "cell_type": "code",
   "execution_count": 17,
   "id": "91b7df72",
   "metadata": {},
   "outputs": [],
   "source": [
    "df = df.sort_values(by=['full_visitor_id','visit_number'], ascending=True).reset_index(drop=True)"
   ]
  },
  {
   "cell_type": "code",
   "execution_count": 18,
   "id": "00fc9adb",
   "metadata": {
    "scrolled": true
   },
   "outputs": [
    {
     "data": {
      "text/html": [
       "<div>\n",
       "<style scoped>\n",
       "    .dataframe tbody tr th:only-of-type {\n",
       "        vertical-align: middle;\n",
       "    }\n",
       "\n",
       "    .dataframe tbody tr th {\n",
       "        vertical-align: top;\n",
       "    }\n",
       "\n",
       "    .dataframe thead th {\n",
       "        text-align: right;\n",
       "    }\n",
       "</style>\n",
       "<table border=\"1\" class=\"dataframe\">\n",
       "  <thead>\n",
       "    <tr style=\"text-align: right;\">\n",
       "      <th></th>\n",
       "      <th>transaction_id</th>\n",
       "      <th>full_visitor_id</th>\n",
       "      <th>visit_number</th>\n",
       "      <th>transaction_done</th>\n",
       "      <th>source_medium</th>\n",
       "    </tr>\n",
       "  </thead>\n",
       "  <tbody>\n",
       "    <tr>\n",
       "      <th>0</th>\n",
       "      <td>NaN</td>\n",
       "      <td>670722016498267</td>\n",
       "      <td>1</td>\n",
       "      <td>0</td>\n",
       "      <td>(direct)_(none)</td>\n",
       "    </tr>\n",
       "    <tr>\n",
       "      <th>1</th>\n",
       "      <td>ORD201707102597</td>\n",
       "      <td>670722016498267</td>\n",
       "      <td>1</td>\n",
       "      <td>1</td>\n",
       "      <td>(direct)_(none)</td>\n",
       "    </tr>\n",
       "    <tr>\n",
       "      <th>2</th>\n",
       "      <td>NaN</td>\n",
       "      <td>670722016498267</td>\n",
       "      <td>2</td>\n",
       "      <td>0</td>\n",
       "      <td>(direct)_(none)</td>\n",
       "    </tr>\n",
       "    <tr>\n",
       "      <th>3</th>\n",
       "      <td>NaN</td>\n",
       "      <td>14262055593378383</td>\n",
       "      <td>4</td>\n",
       "      <td>0</td>\n",
       "      <td>(direct)_(none)</td>\n",
       "    </tr>\n",
       "    <tr>\n",
       "      <th>4</th>\n",
       "      <td>ORD201707031910</td>\n",
       "      <td>14262055593378383</td>\n",
       "      <td>4</td>\n",
       "      <td>1</td>\n",
       "      <td>(direct)_(none)</td>\n",
       "    </tr>\n",
       "    <tr>\n",
       "      <th>5</th>\n",
       "      <td>NaN</td>\n",
       "      <td>14262055593378383</td>\n",
       "      <td>5</td>\n",
       "      <td>0</td>\n",
       "      <td>(direct)_(none)</td>\n",
       "    </tr>\n",
       "    <tr>\n",
       "      <th>6</th>\n",
       "      <td>NaN</td>\n",
       "      <td>16925875208939543</td>\n",
       "      <td>6</td>\n",
       "      <td>0</td>\n",
       "      <td>sites.google.com_referral</td>\n",
       "    </tr>\n",
       "  </tbody>\n",
       "</table>\n",
       "</div>"
      ],
      "text/plain": [
       "    transaction_id    full_visitor_id  visit_number  transaction_done  \\\n",
       "0              NaN    670722016498267             1                 0   \n",
       "1  ORD201707102597    670722016498267             1                 1   \n",
       "2              NaN    670722016498267             2                 0   \n",
       "3              NaN  14262055593378383             4                 0   \n",
       "4  ORD201707031910  14262055593378383             4                 1   \n",
       "5              NaN  14262055593378383             5                 0   \n",
       "6              NaN  16925875208939543             6                 0   \n",
       "\n",
       "               source_medium  \n",
       "0            (direct)_(none)  \n",
       "1            (direct)_(none)  \n",
       "2            (direct)_(none)  \n",
       "3            (direct)_(none)  \n",
       "4            (direct)_(none)  \n",
       "5            (direct)_(none)  \n",
       "6  sites.google.com_referral  "
      ]
     },
     "execution_count": 18,
     "metadata": {},
     "output_type": "execute_result"
    }
   ],
   "source": [
    "df.head(7)"
   ]
  },
  {
   "cell_type": "markdown",
   "id": "3503be01",
   "metadata": {},
   "source": [
    "Проверим, возрастают ли монотонно по пользователям значения в столбце `visit_number`"
   ]
  },
  {
   "cell_type": "code",
   "execution_count": 19,
   "id": "dfe960fc",
   "metadata": {},
   "outputs": [],
   "source": [
    "mono_time = [df[df['full_visitor_id']==i]['visit_number'].is_monotonic_increasing for i in df['full_visitor_id'].unique()]"
   ]
  },
  {
   "cell_type": "code",
   "execution_count": 20,
   "id": "cff56ecd",
   "metadata": {},
   "outputs": [
    {
     "name": "stdout",
     "output_type": "stream",
     "text": [
      "\u001b[1m\u001b[92mНомера визитов пользователя упорядоченны по возрастанию\n"
     ]
    }
   ],
   "source": [
    "if pd.Series(mono_time).unique() == True:\n",
    "    print (color.BOLD+color.OKGREEN+'Номера визитов пользователя упорядоченны по возрастанию')\n",
    "else:\n",
    "    print (color.BOLD+color.FAIL+'Номера визитов пользователя не упорядоченны по возрастанию')"
   ]
  },
  {
   "cell_type": "markdown",
   "id": "718df41b",
   "metadata": {},
   "source": [
    "### Заполнение пропусков"
   ]
  },
  {
   "cell_type": "markdown",
   "id": "9585e32d",
   "metadata": {},
   "source": [
    "Заполним пропуски в столбце `transaction_id` ближайшим следующим значением"
   ]
  },
  {
   "cell_type": "code",
   "execution_count": 21,
   "id": "90547ff2",
   "metadata": {},
   "outputs": [],
   "source": [
    "df['transaction_id'] = df['transaction_id'].fillna(method='backfill')"
   ]
  },
  {
   "cell_type": "code",
   "execution_count": 22,
   "id": "1de2311d",
   "metadata": {},
   "outputs": [
    {
     "name": "stdout",
     "output_type": "stream",
     "text": [
      "Количество пропусков в столбце \"transaction_id\": 0\n"
     ]
    }
   ],
   "source": [
    "print(f'Количество пропусков в столбце \"transaction_id\": {df[\"transaction_id\"].isna().sum()}')"
   ]
  },
  {
   "cell_type": "markdown",
   "id": "8e7c9a08",
   "metadata": {},
   "source": [
    "### Объединение данных по пользователю и транзакции"
   ]
  },
  {
   "cell_type": "markdown",
   "id": "15dd0b4b",
   "metadata": {},
   "source": [
    "- Добавим столбец `visitor_transaction` для определения цепочек по каждой транзакции.\n",
    "- Если после транзакции пользователь позже (определяется номером визита) совершал клики, но не совершил транзакцию, такие данные нужно удалить.\n",
    "- Если пользователь совершал более одной транзакции, то в поле `visitor_transaction` будет иное буквенно-цифровое обозначение, что позволит составить более одной цепочки для одного пользователя."
   ]
  },
  {
   "cell_type": "code",
   "execution_count": 23,
   "id": "25f9565b",
   "metadata": {},
   "outputs": [
    {
     "data": {
      "text/plain": [
       "Index(['transaction_id', 'full_visitor_id', 'visit_number', 'transaction_done',\n",
       "       'source_medium'],\n",
       "      dtype='object')"
      ]
     },
     "execution_count": 23,
     "metadata": {},
     "output_type": "execute_result"
    }
   ],
   "source": [
    "df.columns"
   ]
  },
  {
   "cell_type": "code",
   "execution_count": 24,
   "id": "76b20c36",
   "metadata": {},
   "outputs": [],
   "source": [
    "df['visitor_transaction'] = df['full_visitor_id'].astype('str')+'_'+df['transaction_id']"
   ]
  },
  {
   "cell_type": "code",
   "execution_count": 25,
   "id": "e0981e82",
   "metadata": {},
   "outputs": [
    {
     "data": {
      "text/html": [
       "<div>\n",
       "<style scoped>\n",
       "    .dataframe tbody tr th:only-of-type {\n",
       "        vertical-align: middle;\n",
       "    }\n",
       "\n",
       "    .dataframe tbody tr th {\n",
       "        vertical-align: top;\n",
       "    }\n",
       "\n",
       "    .dataframe thead th {\n",
       "        text-align: right;\n",
       "    }\n",
       "</style>\n",
       "<table border=\"1\" class=\"dataframe\">\n",
       "  <thead>\n",
       "    <tr style=\"text-align: right;\">\n",
       "      <th></th>\n",
       "      <th>transaction_id</th>\n",
       "      <th>full_visitor_id</th>\n",
       "      <th>visit_number</th>\n",
       "      <th>transaction_done</th>\n",
       "      <th>source_medium</th>\n",
       "      <th>visitor_transaction</th>\n",
       "    </tr>\n",
       "  </thead>\n",
       "  <tbody>\n",
       "    <tr>\n",
       "      <th>0</th>\n",
       "      <td>ORD201707102597</td>\n",
       "      <td>670722016498267</td>\n",
       "      <td>1</td>\n",
       "      <td>0</td>\n",
       "      <td>(direct)_(none)</td>\n",
       "      <td>670722016498267_ORD201707102597</td>\n",
       "    </tr>\n",
       "    <tr>\n",
       "      <th>1</th>\n",
       "      <td>ORD201707102597</td>\n",
       "      <td>670722016498267</td>\n",
       "      <td>1</td>\n",
       "      <td>1</td>\n",
       "      <td>(direct)_(none)</td>\n",
       "      <td>670722016498267_ORD201707102597</td>\n",
       "    </tr>\n",
       "    <tr>\n",
       "      <th>2</th>\n",
       "      <td>ORD201707031910</td>\n",
       "      <td>670722016498267</td>\n",
       "      <td>2</td>\n",
       "      <td>0</td>\n",
       "      <td>(direct)_(none)</td>\n",
       "      <td>670722016498267_ORD201707031910</td>\n",
       "    </tr>\n",
       "    <tr>\n",
       "      <th>3</th>\n",
       "      <td>ORD201707031910</td>\n",
       "      <td>14262055593378383</td>\n",
       "      <td>4</td>\n",
       "      <td>0</td>\n",
       "      <td>(direct)_(none)</td>\n",
       "      <td>14262055593378383_ORD201707031910</td>\n",
       "    </tr>\n",
       "    <tr>\n",
       "      <th>4</th>\n",
       "      <td>ORD201707031910</td>\n",
       "      <td>14262055593378383</td>\n",
       "      <td>4</td>\n",
       "      <td>1</td>\n",
       "      <td>(direct)_(none)</td>\n",
       "      <td>14262055593378383_ORD201707031910</td>\n",
       "    </tr>\n",
       "    <tr>\n",
       "      <th>5</th>\n",
       "      <td>ORD201707112521</td>\n",
       "      <td>14262055593378383</td>\n",
       "      <td>5</td>\n",
       "      <td>0</td>\n",
       "      <td>(direct)_(none)</td>\n",
       "      <td>14262055593378383_ORD201707112521</td>\n",
       "    </tr>\n",
       "    <tr>\n",
       "      <th>6</th>\n",
       "      <td>ORD201707112521</td>\n",
       "      <td>16925875208939543</td>\n",
       "      <td>6</td>\n",
       "      <td>0</td>\n",
       "      <td>sites.google.com_referral</td>\n",
       "      <td>16925875208939543_ORD201707112521</td>\n",
       "    </tr>\n",
       "  </tbody>\n",
       "</table>\n",
       "</div>"
      ],
      "text/plain": [
       "    transaction_id    full_visitor_id  visit_number  transaction_done  \\\n",
       "0  ORD201707102597    670722016498267             1                 0   \n",
       "1  ORD201707102597    670722016498267             1                 1   \n",
       "2  ORD201707031910    670722016498267             2                 0   \n",
       "3  ORD201707031910  14262055593378383             4                 0   \n",
       "4  ORD201707031910  14262055593378383             4                 1   \n",
       "5  ORD201707112521  14262055593378383             5                 0   \n",
       "6  ORD201707112521  16925875208939543             6                 0   \n",
       "\n",
       "               source_medium                visitor_transaction  \n",
       "0            (direct)_(none)    670722016498267_ORD201707102597  \n",
       "1            (direct)_(none)    670722016498267_ORD201707102597  \n",
       "2            (direct)_(none)    670722016498267_ORD201707031910  \n",
       "3            (direct)_(none)  14262055593378383_ORD201707031910  \n",
       "4            (direct)_(none)  14262055593378383_ORD201707031910  \n",
       "5            (direct)_(none)  14262055593378383_ORD201707112521  \n",
       "6  sites.google.com_referral  16925875208939543_ORD201707112521  "
      ]
     },
     "execution_count": 25,
     "metadata": {},
     "output_type": "execute_result"
    }
   ],
   "source": [
    "df.head(7)"
   ]
  },
  {
   "cell_type": "markdown",
   "id": "6e7f6440",
   "metadata": {},
   "source": [
    "Удалим ложные данные, получившиеся при заполнении пропусков значениями транзакций от следующего пользователя."
   ]
  },
  {
   "cell_type": "code",
   "execution_count": 26,
   "id": "06e6a8ae",
   "metadata": {},
   "outputs": [],
   "source": [
    "visitor_transaction_filter = df[df['transaction_done'] == 1]['visitor_transaction'].unique()"
   ]
  },
  {
   "cell_type": "code",
   "execution_count": 27,
   "id": "2f884f82",
   "metadata": {},
   "outputs": [],
   "source": [
    "df = df[df['visitor_transaction'].isin(visitor_transaction_filter)]"
   ]
  },
  {
   "cell_type": "code",
   "execution_count": 28,
   "id": "c01ca856",
   "metadata": {
    "scrolled": false
   },
   "outputs": [
    {
     "data": {
      "text/html": [
       "<div>\n",
       "<style scoped>\n",
       "    .dataframe tbody tr th:only-of-type {\n",
       "        vertical-align: middle;\n",
       "    }\n",
       "\n",
       "    .dataframe tbody tr th {\n",
       "        vertical-align: top;\n",
       "    }\n",
       "\n",
       "    .dataframe thead th {\n",
       "        text-align: right;\n",
       "    }\n",
       "</style>\n",
       "<table border=\"1\" class=\"dataframe\">\n",
       "  <thead>\n",
       "    <tr style=\"text-align: right;\">\n",
       "      <th></th>\n",
       "      <th>transaction_id</th>\n",
       "      <th>full_visitor_id</th>\n",
       "      <th>visit_number</th>\n",
       "      <th>transaction_done</th>\n",
       "      <th>source_medium</th>\n",
       "      <th>visitor_transaction</th>\n",
       "    </tr>\n",
       "  </thead>\n",
       "  <tbody>\n",
       "    <tr>\n",
       "      <th>0</th>\n",
       "      <td>ORD201707102597</td>\n",
       "      <td>670722016498267</td>\n",
       "      <td>1</td>\n",
       "      <td>0</td>\n",
       "      <td>(direct)_(none)</td>\n",
       "      <td>670722016498267_ORD201707102597</td>\n",
       "    </tr>\n",
       "    <tr>\n",
       "      <th>1</th>\n",
       "      <td>ORD201707102597</td>\n",
       "      <td>670722016498267</td>\n",
       "      <td>1</td>\n",
       "      <td>1</td>\n",
       "      <td>(direct)_(none)</td>\n",
       "      <td>670722016498267_ORD201707102597</td>\n",
       "    </tr>\n",
       "    <tr>\n",
       "      <th>3</th>\n",
       "      <td>ORD201707031910</td>\n",
       "      <td>14262055593378383</td>\n",
       "      <td>4</td>\n",
       "      <td>0</td>\n",
       "      <td>(direct)_(none)</td>\n",
       "      <td>14262055593378383_ORD201707031910</td>\n",
       "    </tr>\n",
       "    <tr>\n",
       "      <th>4</th>\n",
       "      <td>ORD201707031910</td>\n",
       "      <td>14262055593378383</td>\n",
       "      <td>4</td>\n",
       "      <td>1</td>\n",
       "      <td>(direct)_(none)</td>\n",
       "      <td>14262055593378383_ORD201707031910</td>\n",
       "    </tr>\n",
       "    <tr>\n",
       "      <th>6</th>\n",
       "      <td>ORD201707112521</td>\n",
       "      <td>16925875208939543</td>\n",
       "      <td>6</td>\n",
       "      <td>0</td>\n",
       "      <td>sites.google.com_referral</td>\n",
       "      <td>16925875208939543_ORD201707112521</td>\n",
       "    </tr>\n",
       "    <tr>\n",
       "      <th>7</th>\n",
       "      <td>ORD201707112521</td>\n",
       "      <td>16925875208939543</td>\n",
       "      <td>7</td>\n",
       "      <td>0</td>\n",
       "      <td>(direct)_(none)</td>\n",
       "      <td>16925875208939543_ORD201707112521</td>\n",
       "    </tr>\n",
       "    <tr>\n",
       "      <th>8</th>\n",
       "      <td>ORD201707112521</td>\n",
       "      <td>16925875208939543</td>\n",
       "      <td>7</td>\n",
       "      <td>1</td>\n",
       "      <td>(direct)_(none)</td>\n",
       "      <td>16925875208939543_ORD201707112521</td>\n",
       "    </tr>\n",
       "  </tbody>\n",
       "</table>\n",
       "</div>"
      ],
      "text/plain": [
       "    transaction_id    full_visitor_id  visit_number  transaction_done  \\\n",
       "0  ORD201707102597    670722016498267             1                 0   \n",
       "1  ORD201707102597    670722016498267             1                 1   \n",
       "3  ORD201707031910  14262055593378383             4                 0   \n",
       "4  ORD201707031910  14262055593378383             4                 1   \n",
       "6  ORD201707112521  16925875208939543             6                 0   \n",
       "7  ORD201707112521  16925875208939543             7                 0   \n",
       "8  ORD201707112521  16925875208939543             7                 1   \n",
       "\n",
       "               source_medium                visitor_transaction  \n",
       "0            (direct)_(none)    670722016498267_ORD201707102597  \n",
       "1            (direct)_(none)    670722016498267_ORD201707102597  \n",
       "3            (direct)_(none)  14262055593378383_ORD201707031910  \n",
       "4            (direct)_(none)  14262055593378383_ORD201707031910  \n",
       "6  sites.google.com_referral  16925875208939543_ORD201707112521  \n",
       "7            (direct)_(none)  16925875208939543_ORD201707112521  \n",
       "8            (direct)_(none)  16925875208939543_ORD201707112521  "
      ]
     },
     "execution_count": 28,
     "metadata": {},
     "output_type": "execute_result"
    }
   ],
   "source": [
    "df.head(7)"
   ]
  },
  {
   "cell_type": "markdown",
   "id": "3b72ac3e",
   "metadata": {},
   "source": [
    "## Результирующие таблицы"
   ]
  },
  {
   "cell_type": "markdown",
   "id": "cd62ee0a",
   "metadata": {},
   "source": [
    "### Таблица 1"
   ]
  },
  {
   "cell_type": "markdown",
   "id": "2f7fb0a2",
   "metadata": {},
   "source": [
    "Таблица `touch_chain`: \n",
    "- для каждой транзакции сформирована цепочка касаний"
   ]
  },
  {
   "cell_type": "code",
   "execution_count": 29,
   "id": "9566c895",
   "metadata": {},
   "outputs": [
    {
     "data": {
      "text/html": [
       "<div>\n",
       "<style scoped>\n",
       "    .dataframe tbody tr th:only-of-type {\n",
       "        vertical-align: middle;\n",
       "    }\n",
       "\n",
       "    .dataframe tbody tr th {\n",
       "        vertical-align: top;\n",
       "    }\n",
       "\n",
       "    .dataframe thead th {\n",
       "        text-align: right;\n",
       "    }\n",
       "</style>\n",
       "<table border=\"1\" class=\"dataframe\">\n",
       "  <thead>\n",
       "    <tr style=\"text-align: right;\">\n",
       "      <th></th>\n",
       "      <th>source_medium</th>\n",
       "    </tr>\n",
       "    <tr>\n",
       "      <th>transaction_id</th>\n",
       "      <th></th>\n",
       "    </tr>\n",
       "  </thead>\n",
       "  <tbody>\n",
       "    <tr>\n",
       "      <th>ORD201707011581</th>\n",
       "      <td>google_organic=&gt;google_organic</td>\n",
       "    </tr>\n",
       "    <tr>\n",
       "      <th>ORD201707011628</th>\n",
       "      <td>google_organic=&gt;google_organic</td>\n",
       "    </tr>\n",
       "    <tr>\n",
       "      <th>ORD201707011643</th>\n",
       "      <td>google_organic=&gt;google_organic</td>\n",
       "    </tr>\n",
       "    <tr>\n",
       "      <th>ORD201707021442</th>\n",
       "      <td>dfa_cpm=&gt;dfa_cpm</td>\n",
       "    </tr>\n",
       "    <tr>\n",
       "      <th>ORD201707021449</th>\n",
       "      <td>(direct)_(none)=&gt;(direct)_(none)</td>\n",
       "    </tr>\n",
       "  </tbody>\n",
       "</table>\n",
       "</div>"
      ],
      "text/plain": [
       "                                    source_medium\n",
       "transaction_id                                   \n",
       "ORD201707011581    google_organic=>google_organic\n",
       "ORD201707011628    google_organic=>google_organic\n",
       "ORD201707011643    google_organic=>google_organic\n",
       "ORD201707021442                  dfa_cpm=>dfa_cpm\n",
       "ORD201707021449  (direct)_(none)=>(direct)_(none)"
      ]
     },
     "execution_count": 29,
     "metadata": {},
     "output_type": "execute_result"
    }
   ],
   "source": [
    "touch_chain = df.groupby('transaction_id')[['source_medium']].agg('=>'.join)\n",
    "touch_chain.head()"
   ]
  },
  {
   "cell_type": "markdown",
   "id": "40c2cc6c",
   "metadata": {},
   "source": [
    "### Таблица 2"
   ]
  },
  {
   "cell_type": "markdown",
   "id": "1c06a8ad",
   "metadata": {},
   "source": [
    "Топ-10 самых популярных цепочек касаний. Популярность определяется на основе количества таких цепочек в датасете."
   ]
  },
  {
   "cell_type": "code",
   "execution_count": 30,
   "id": "ab318658",
   "metadata": {
    "scrolled": true
   },
   "outputs": [
    {
     "data": {
      "text/html": [
       "<div>\n",
       "<style scoped>\n",
       "    .dataframe tbody tr th:only-of-type {\n",
       "        vertical-align: middle;\n",
       "    }\n",
       "\n",
       "    .dataframe tbody tr th {\n",
       "        vertical-align: top;\n",
       "    }\n",
       "\n",
       "    .dataframe thead th {\n",
       "        text-align: right;\n",
       "    }\n",
       "</style>\n",
       "<table border=\"1\" class=\"dataframe\">\n",
       "  <thead>\n",
       "    <tr style=\"text-align: right;\">\n",
       "      <th></th>\n",
       "      <th>count</th>\n",
       "    </tr>\n",
       "    <tr>\n",
       "      <th>source_medium</th>\n",
       "      <th></th>\n",
       "    </tr>\n",
       "  </thead>\n",
       "  <tbody>\n",
       "    <tr>\n",
       "      <th>(direct)_(none)=&gt;(direct)_(none)</th>\n",
       "      <td>166</td>\n",
       "    </tr>\n",
       "    <tr>\n",
       "      <th>google_organic=&gt;google_organic</th>\n",
       "      <td>70</td>\n",
       "    </tr>\n",
       "    <tr>\n",
       "      <th>(direct)_(none)=&gt;(direct)_(none)=&gt;(direct)_(none)</th>\n",
       "      <td>60</td>\n",
       "    </tr>\n",
       "    <tr>\n",
       "      <th>(direct)_(none)=&gt;(direct)_(none)=&gt;(direct)_(none)=&gt;(direct)_(none)</th>\n",
       "      <td>21</td>\n",
       "    </tr>\n",
       "    <tr>\n",
       "      <th>google_organic=&gt;google_organic=&gt;google_organic</th>\n",
       "      <td>13</td>\n",
       "    </tr>\n",
       "    <tr>\n",
       "      <th>google_cpc=&gt;google_cpc</th>\n",
       "      <td>11</td>\n",
       "    </tr>\n",
       "    <tr>\n",
       "      <th>google_organic=&gt;google_organic=&gt;google_organic=&gt;google_organic</th>\n",
       "      <td>10</td>\n",
       "    </tr>\n",
       "    <tr>\n",
       "      <th>(direct)_(none)=&gt;(direct)_(none)=&gt;(direct)_(none)=&gt;(direct)_(none)=&gt;(direct)_(none)</th>\n",
       "      <td>9</td>\n",
       "    </tr>\n",
       "    <tr>\n",
       "      <th>google_cpm=&gt;google_cpm</th>\n",
       "      <td>3</td>\n",
       "    </tr>\n",
       "    <tr>\n",
       "      <th>(direct)_(none)=&gt;(direct)_(none)=&gt;(direct)_(none)=&gt;(direct)_(none)=&gt;(direct)_(none)=&gt;(direct)_(none)</th>\n",
       "      <td>3</td>\n",
       "    </tr>\n",
       "  </tbody>\n",
       "</table>\n",
       "</div>"
      ],
      "text/plain": [
       "                                                                                                      count\n",
       "source_medium                                                                                              \n",
       "(direct)_(none)=>(direct)_(none)                                                                        166\n",
       "google_organic=>google_organic                                                                           70\n",
       "(direct)_(none)=>(direct)_(none)=>(direct)_(none)                                                        60\n",
       "(direct)_(none)=>(direct)_(none)=>(direct)_(none)=>(direct)_(none)                                       21\n",
       "google_organic=>google_organic=>google_organic                                                           13\n",
       "google_cpc=>google_cpc                                                                                   11\n",
       "google_organic=>google_organic=>google_organic=>google_organic                                           10\n",
       "(direct)_(none)=>(direct)_(none)=>(direct)_(none)=>(direct)_(none)=>(direct)_(none)                       9\n",
       "google_cpm=>google_cpm                                                                                    3\n",
       "(direct)_(none)=>(direct)_(none)=>(direct)_(none)=>(direct)_(none)=>(direct)_(none)=>(direct)_(none)      3"
      ]
     },
     "execution_count": 30,
     "metadata": {},
     "output_type": "execute_result"
    }
   ],
   "source": [
    "top_chain = pd.DataFrame(touch_chain[['source_medium']].value_counts()).rename(columns={0:'count'}).head(10)\n",
    "top_chain"
   ]
  },
  {
   "cell_type": "code",
   "execution_count": 31,
   "id": "8e75d43b",
   "metadata": {
    "scrolled": false
   },
   "outputs": [
    {
     "data": {
      "image/png": "[encoded data removed]",
      "text/plain": [
       "<Figure size 720x576 with 1 Axes>"
      ]
     },
     "metadata": {},
     "output_type": "display_data"
    }
   ],
   "source": [
    "plt.figure(figsize=(10, 8))\n",
    "plt.title('Топ-10 самых популярных цепочек касаний', fontsize=15, y=1.03)\n",
    "\n",
    "ax = sns.barplot(data=top_chain.reset_index(),\n",
    "                 x='count',\n",
    "                 y='source_medium',\n",
    "                 color='lightseagreen', alpha=.6)\n",
    "\n",
    "plt.xlabel('Количество цепочек в датасете')\n",
    "plt.ylabel('Цепочка касаний')\n",
    "ax.set_xlim([0, top_chain['count'].max()*1.1])\n",
    "\n",
    "total = len(top_chain)\n",
    "for p in ax.patches:\n",
    "        ax.annotate('{:.0f}%'.format(100 * p.get_width()/total),\n",
    "                    (p.get_x() + p.get_width(), p.get_y() + p.get_height()/1.3),\n",
    "                    xytext=(5, 0),\n",
    "                    textcoords='offset points',\n",
    "                    ha='left',\n",
    "                    va='center')\n",
    "        ax.annotate('%.0f' % p.get_width(),\n",
    "                    (p.get_x() + p.get_width(), p.get_y() + p.get_height()/3.2),\n",
    "                    xytext=(5, 0),\n",
    "                    textcoords='offset points',\n",
    "                    ha='left',\n",
    "                    va='center') ;"
   ]
  },
  {
   "cell_type": "markdown",
   "id": "f62924bb",
   "metadata": {},
   "source": [
    "## Выгрузка данных"
   ]
  },
  {
   "cell_type": "markdown",
   "id": "062b1a06",
   "metadata": {},
   "source": [
    "Для удобства работы заказчика с полученными данными выгрузим результаты в формате `xlsx`"
   ]
  },
  {
   "cell_type": "code",
   "execution_count": 32,
   "id": "79cb0c60",
   "metadata": {},
   "outputs": [],
   "source": [
    "writer = pd.ExcelWriter('M:/datasets/chain/chain.xlsx', engine='xlsxwriter')\n",
    "\n",
    "touch_chain.to_excel(writer, sheet_name='touch_chain')\n",
    "top_chain.to_excel(writer, sheet_name='top_chain')\n",
    "\n",
    "writer.save()"
   ]
  },
  {
   "cell_type": "markdown",
   "id": "818cfdc9",
   "metadata": {},
   "source": [
    "## Выводы"
   ]
  },
  {
   "cell_type": "markdown",
   "id": "f85af60c",
   "metadata": {},
   "source": [
    "Для отдел маркетинга предоставлены данные для определения оптимальная последовательности касаний пользователей для совершения транзакции в интернете.\n",
    "\n",
    "Выполнено:\n",
    "\n",
    "- Из датасета ga_sessions BigQuery извлечена таблица с необходимым набором полей и периодом запроса 2 недели.\n",
    "- Сформирована последовательности источников визитов пользователя, которые привели к транзакции.\n",
    "- Определен топ-10 самых популярных цепочек касаний на основе количества таких цепочек в датасете.\n",
    "\n",
    "Работа проведена в Jupiter Notebook, результаты предоставлены заказчику в формате `.xlsx`."
   ]
  }
 ],
 "metadata": {
  "kernelspec": {
   "display_name": "Python 3 (ipykernel)",
   "language": "python",
   "name": "python3"
  },
  "language_info": {
   "codemirror_mode": {
    "name": "ipython",
    "version": 3
   },
   "file_extension": ".py",
   "mimetype": "text/x-python",
   "name": "python",
   "nbconvert_exporter": "python",
   "pygments_lexer": "ipython3",
   "version": "3.8.10"
  },
  "toc": {
   "base_numbering": 1,
   "nav_menu": {},
   "number_sections": true,
   "sideBar": true,
   "skip_h1_title": true,
   "title_cell": "Table of Contents",
   "title_sidebar": "Contents",
   "toc_cell": false,
   "toc_position": {},
   "toc_section_display": true,
   "toc_window_display": true
  }
 },
 "nbformat": 4,
 "nbformat_minor": 5
}
